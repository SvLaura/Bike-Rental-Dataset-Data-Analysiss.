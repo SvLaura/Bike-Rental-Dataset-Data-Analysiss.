{
 "cells": [
  {
   "cell_type": "markdown",
   "metadata": {
    "slideshow": {
     "slide_type": "slide"
    }
   },
   "source": [
    "## Bike Rental Dataset Data Analysis.\n",
    "    Published: on May 27, 2020\n",
    "    \n",
    "###  Summary\n",
    "\n",
    "    The analysis investigates data from Bike rental website to find answers on questions bellow using Python and its libraries. Data are available data for public use: https://www.lyft.com/bikes/bay-wheels/system-data. \n",
    "Analyse is divided into 2 parts:\n",
    "In the first part - an exploratory data analysis on a dataset is provided.\n",
    "In the second part, the main findings from the  first part were taken to  create a slide deck that leverages polished, explanatory visualizations to communicate the results. \n",
    "\n",
    "#### The key features in the dataset \n",
    "\n",
    "Each trip is anonymized and includes:\n",
    "    Trip Duration (seconds)\n",
    "    Start Time and Date\n",
    "    End Time and Date\n",
    "    Start Station ID\n",
    "    Start Station Name\n",
    "    Start Station Latitude\n",
    "    Start Station Longitude\n",
    "    End Station ID\n",
    "    End Station Name\n",
    "    End Station Latitude\n",
    "    End Station Longitude\n",
    "    Bike ID\n",
    "    User Type (Subscriber or Customer – “Subscriber” = Member or “Customer” = Casual)\n",
    "\n",
    "#### During this analysis next questions were examined:\n",
    "\n",
    "    1 Who is the Client that rent a bike? Find client characteristics:\n",
    "        - what is the average age? what's the % and number of the clients?\n",
    "        - youngest and olderest client? what's the % and number of the clients?\n",
    "        - male or female? what's the % and number of the clients?\n",
    "        \n",
    "    \n",
    "    2 What is the user preferences?\n",
    "        - Does a client prefer choose bike share option?\n",
    "        - What rental access method is the most popular?\n",
    "        - Does a client prefer to take subscription ?\n",
    " \n",
    "    3. How does world lockdown influense on bike rents?\n",
    "\n",
    "    \n",
    "#### Steps to investigate questions:\n",
    "\n",
    "    1. Wrangle data.\n",
    "    \n",
    "        1.1. Data gathering.\n",
    "        All files were downloaded from the website 'https://s3.amazonaws.com/baywheels-data/index.html' programmatically. Files are stored in zip files, and collected from 2017 till nowdays. Data for 2017 is a one zipped file, data for 2018 (and further years) are represented grouped by each month is a separate zippe file.\n",
    "        \n",
    "        1.2. Assessing and Cleaning data for quaity and tidiness.\n",
    "\n",
    "    2. Exploratory data analysis. Visualisation.\n",
    "   \n",
    "    3. Explanatory analysis. A slide deck that leverages polished, explanatory visualizations to communicate the results."
   ]
  },
  {
   "cell_type": "code",
   "execution_count": null,
   "metadata": {
    "slideshow": {
     "slide_type": "skip"
    }
   },
   "outputs": [],
   "source": [
    "# for map visualisation:\n",
    "import pip\n",
    "package_name='gmplot' \n",
    "pip.main(['install',package_name])\n",
    "\n",
    "import pip\n",
    "package_name='geopy' \n",
    "pip.main(['install',package_name])\n"
   ]
  },
  {
   "cell_type": "code",
   "execution_count": 3,
   "metadata": {
    "slideshow": {
     "slide_type": "skip"
    }
   },
   "outputs": [],
   "source": [
    "# import:\n",
    "import numpy as np\n",
    "import os\n",
    "import pandas as pd\n",
    "import requests\n",
    "import tweepy\n",
    "import json\n",
    "from timeit import default_timer as timer\n",
    "import matplotlib.pyplot as plt\n",
    "import seaborn as sb\n",
    "import re\n",
    "import datetime\n",
    "import zipfile\n",
    "import io\n",
    "from glob import iglob\n",
    "import sys\n",
    "import seaborn as sb\n",
    "import gmplot \n",
    "from geopy.geocoders import Nominatim\n",
    "\n",
    "# display plots inline\n",
    "%matplotlib inline\n",
    "\n",
    "\n",
    "# create folder for data files ( if it is not exist ) :\n",
    "folder_name = 'data'\n",
    "if not os.path.exists(folder_name):\n",
    "    os.makedirs(folder_name)\n"
   ]
  },
  {
   "cell_type": "markdown",
   "metadata": {
    "slideshow": {
     "slide_type": "slide"
    }
   },
   "source": [
    "### 1. Wrangle data.\n",
    "\n",
    "#### 1.1. Data gathering."
   ]
  },
  {
   "cell_type": "code",
   "execution_count": 4,
   "metadata": {
    "slideshow": {
     "slide_type": "skip"
    }
   },
   "outputs": [
    {
     "name": "stdout",
     "output_type": "stream",
     "text": [
      "200\n"
     ]
    }
   ],
   "source": [
    "# main url with files to download:\n",
    "url = 'https://s3.amazonaws.com/baywheels-data/index.html'\n",
    "\n",
    "# check url:\n",
    "page = requests.get(url)\n",
    "print(page.status_code)"
   ]
  },
  {
   "cell_type": "code",
   "execution_count": null,
   "metadata": {
    "slideshow": {
     "slide_type": "skip"
    }
   },
   "outputs": [],
   "source": [
    "# Output: 200 - url is ok"
   ]
  },
  {
   "cell_type": "code",
   "execution_count": null,
   "metadata": {
    "slideshow": {
     "slide_type": "skip"
    }
   },
   "outputs": [],
   "source": [
    "# Download data from url:\n",
    "\n",
    "# function to create folder for each year ( if it is not exist )\n",
    "def folder_name_func(year):\n",
    "    folder_name_y = folder_name + '/' + year\n",
    "    if not os.path.exists(folder_name_y):\n",
    "        os.makedirs(folder_name_y)\n",
    "    return folder_name_y\n",
    "        \n",
    "# Function:\n",
    "def get_files_func(data_name, file_url_num, file_url = 'def'):\n",
    "    # if parameter 'file_url' of function is skipped then 'file_url =': \n",
    "    if file_url == 'def':\n",
    "        file_url = 'https://s3.amazonaws.com/'+ data_name +'-data/'+ file_url_num + '-' + data_name + '-tripdata.csv.zip'\n",
    "    # check if url exists:  \n",
    "    r = requests.get(file_url, stream=True)\n",
    "    url_exists = r.status_code # = 200 - url exists\n",
    "    if url_exists == 200: \n",
    "        check = zipfile.is_zipfile(io.BytesIO(r.content))\n",
    "        if (check):\n",
    "            z = zipfile.ZipFile(io.BytesIO(r.content))\n",
    "            z.extractall(folder_name_y)\n",
    "        # if not zip format try scv format\n",
    "        else:\n",
    "            try:\n",
    "                download = requests.get(ur,stream=True)\n",
    "                # take file name from the url:\n",
    "                tmp = file_url.split('/'[-1])\n",
    "                f_name = tmp[len(tmp) - 1]\n",
    "                # download file:\n",
    "                with open(folder_name_y +'/'+ f_name, 'w') as file:\n",
    "                    file.write(download.text)\n",
    "            except:\n",
    "                print(file_url + \"file wasn't downloaded\")\n",
    "    return url_exists\n",
    "\n",
    "# start from 201801, then 201802,...until today minus one or few months\n",
    "now = datetime.datetime.now()\n",
    "start_year = 2018\n",
    "files_in_year = np.arange(1,13) \n",
    "year_count = now.year - start_year + 1\n",
    "\n",
    "# get file for not standart url for 2017 year:\n",
    "urls = ['https://s3.amazonaws.com/baywheels-data/2017-fordgobike-tripdata.csv.zip']\n",
    "folders=[]\n",
    "folder_name_y = folder_name_func('2017')\n",
    "folders.append(folder_name_y)\n",
    "get_files_func('fordgobike','2017',urls[0])\n",
    "\n",
    "# get files for other years:\n",
    "for i in range(year_count):\n",
    "    year = str(int(start_year) + i)\n",
    "\n",
    "    for fy in files_in_year:\n",
    "        fy = str(fy)       \n",
    "        if len(fy) == 1:\n",
    "            file_url_num = year + \"0\" + fy\n",
    "        else:\n",
    "            file_url_num = year + fy\n",
    "        folder_name_y = folder_name_func(year)\n",
    "        if folder_name_y not in folders:\n",
    "            folders.append(folder_name_y)\n",
    "        func_resp = get_files_func('fordgobike', file_url_num)\n",
    "        if func_resp != 200:\n",
    "            get_files_func('baywheels', file_url_num)\n",
    "    "
   ]
  },
  {
   "cell_type": "code",
   "execution_count": 10,
   "metadata": {
    "slideshow": {
     "slide_type": "skip"
    }
   },
   "outputs": [],
   "source": [
    "# read all *.scv files from the 'folders' to dataframe 'df':\n",
    "dirpath = os.getcwd()\n",
    "df = pd.DataFrame()\n",
    "for i in range(len(folders)):\n",
    "    path = os.getcwd() + '/' + folders[i] + '/*.csv'\n",
    "    # to dataframe:\n",
    "    df2 = pd.concat((pd.read_csv(f, dtype='unicode', index_col=False, low_memory=False) \n",
    "                     for f in iglob(path, recursive=True)), ignore_index=True, sort=False)   \n",
    "    df = df.append(df2)"
   ]
  },
  {
   "cell_type": "markdown",
   "metadata": {
    "slideshow": {
     "slide_type": "slide"
    }
   },
   "source": [
    "#### 1.2. Assessing and Cleaning data for quaity and tidiness."
   ]
  },
  {
   "cell_type": "code",
   "execution_count": 11,
   "metadata": {
    "slideshow": {
     "slide_type": "subslide"
    }
   },
   "outputs": [
    {
     "data": {
      "text/html": [
       "<div>\n",
       "<style scoped>\n",
       "    .dataframe tbody tr th:only-of-type {\n",
       "        vertical-align: middle;\n",
       "    }\n",
       "\n",
       "    .dataframe tbody tr th {\n",
       "        vertical-align: top;\n",
       "    }\n",
       "\n",
       "    .dataframe thead th {\n",
       "        text-align: right;\n",
       "    }\n",
       "</style>\n",
       "<table border=\"1\" class=\"dataframe\">\n",
       "  <thead>\n",
       "    <tr style=\"text-align: right;\">\n",
       "      <th></th>\n",
       "      <th>duration_sec</th>\n",
       "      <th>start_time</th>\n",
       "      <th>end_time</th>\n",
       "      <th>start_station_id</th>\n",
       "      <th>start_station_name</th>\n",
       "      <th>start_station_latitude</th>\n",
       "      <th>start_station_longitude</th>\n",
       "      <th>end_station_id</th>\n",
       "      <th>end_station_name</th>\n",
       "      <th>end_station_latitude</th>\n",
       "      <th>...</th>\n",
       "      <th>rental_access_method</th>\n",
       "      <th>ride_id</th>\n",
       "      <th>rideable_type</th>\n",
       "      <th>started_at</th>\n",
       "      <th>ended_at</th>\n",
       "      <th>start_lat</th>\n",
       "      <th>start_lng</th>\n",
       "      <th>end_lat</th>\n",
       "      <th>end_lng</th>\n",
       "      <th>member_casual</th>\n",
       "    </tr>\n",
       "  </thead>\n",
       "  <tbody>\n",
       "    <tr>\n",
       "      <th>0</th>\n",
       "      <td>80110</td>\n",
       "      <td>2017-12-31 16:57:39.6540</td>\n",
       "      <td>2018-01-01 15:12:50.2450</td>\n",
       "      <td>74</td>\n",
       "      <td>Laguna St at Hayes St</td>\n",
       "      <td>37.7764348192</td>\n",
       "      <td>-122.4262440205</td>\n",
       "      <td>43</td>\n",
       "      <td>San Francisco Public Library (Grove St at Hyde...</td>\n",
       "      <td>37.7787677</td>\n",
       "      <td>...</td>\n",
       "      <td>NaN</td>\n",
       "      <td>NaN</td>\n",
       "      <td>NaN</td>\n",
       "      <td>NaN</td>\n",
       "      <td>NaN</td>\n",
       "      <td>NaN</td>\n",
       "      <td>NaN</td>\n",
       "      <td>NaN</td>\n",
       "      <td>NaN</td>\n",
       "      <td>NaN</td>\n",
       "    </tr>\n",
       "    <tr>\n",
       "      <th>1</th>\n",
       "      <td>78800</td>\n",
       "      <td>2017-12-31 15:56:34.8420</td>\n",
       "      <td>2018-01-01 13:49:55.6170</td>\n",
       "      <td>284</td>\n",
       "      <td>Yerba Buena Center for the Arts (Howard St at ...</td>\n",
       "      <td>37.7848720844</td>\n",
       "      <td>-122.4008756876</td>\n",
       "      <td>96</td>\n",
       "      <td>Dolores St at 15th St</td>\n",
       "      <td>37.7662102</td>\n",
       "      <td>...</td>\n",
       "      <td>NaN</td>\n",
       "      <td>NaN</td>\n",
       "      <td>NaN</td>\n",
       "      <td>NaN</td>\n",
       "      <td>NaN</td>\n",
       "      <td>NaN</td>\n",
       "      <td>NaN</td>\n",
       "      <td>NaN</td>\n",
       "      <td>NaN</td>\n",
       "      <td>NaN</td>\n",
       "    </tr>\n",
       "    <tr>\n",
       "      <th>2</th>\n",
       "      <td>45768</td>\n",
       "      <td>2017-12-31 22:45:48.4110</td>\n",
       "      <td>2018-01-01 11:28:36.8830</td>\n",
       "      <td>245</td>\n",
       "      <td>Downtown Berkeley BART</td>\n",
       "      <td>37.8703477</td>\n",
       "      <td>-122.2677637</td>\n",
       "      <td>245</td>\n",
       "      <td>Downtown Berkeley BART</td>\n",
       "      <td>37.8703477</td>\n",
       "      <td>...</td>\n",
       "      <td>NaN</td>\n",
       "      <td>NaN</td>\n",
       "      <td>NaN</td>\n",
       "      <td>NaN</td>\n",
       "      <td>NaN</td>\n",
       "      <td>NaN</td>\n",
       "      <td>NaN</td>\n",
       "      <td>NaN</td>\n",
       "      <td>NaN</td>\n",
       "      <td>NaN</td>\n",
       "    </tr>\n",
       "    <tr>\n",
       "      <th>3</th>\n",
       "      <td>62172</td>\n",
       "      <td>2017-12-31 17:31:10.6360</td>\n",
       "      <td>2018-01-01 10:47:23.5310</td>\n",
       "      <td>60</td>\n",
       "      <td>8th St at Ringold St</td>\n",
       "      <td>37.7745204011</td>\n",
       "      <td>-122.4094493687</td>\n",
       "      <td>5</td>\n",
       "      <td>Powell St BART Station (Market St at 5th St)</td>\n",
       "      <td>37.7838993571</td>\n",
       "      <td>...</td>\n",
       "      <td>NaN</td>\n",
       "      <td>NaN</td>\n",
       "      <td>NaN</td>\n",
       "      <td>NaN</td>\n",
       "      <td>NaN</td>\n",
       "      <td>NaN</td>\n",
       "      <td>NaN</td>\n",
       "      <td>NaN</td>\n",
       "      <td>NaN</td>\n",
       "      <td>NaN</td>\n",
       "    </tr>\n",
       "    <tr>\n",
       "      <th>4</th>\n",
       "      <td>43603</td>\n",
       "      <td>2017-12-31 14:23:14.0010</td>\n",
       "      <td>2018-01-01 02:29:57.5710</td>\n",
       "      <td>239</td>\n",
       "      <td>Bancroft Way at Telegraph Ave</td>\n",
       "      <td>37.8688126</td>\n",
       "      <td>-122.258764</td>\n",
       "      <td>247</td>\n",
       "      <td>Fulton St at Bancroft Way</td>\n",
       "      <td>37.8677892</td>\n",
       "      <td>...</td>\n",
       "      <td>NaN</td>\n",
       "      <td>NaN</td>\n",
       "      <td>NaN</td>\n",
       "      <td>NaN</td>\n",
       "      <td>NaN</td>\n",
       "      <td>NaN</td>\n",
       "      <td>NaN</td>\n",
       "      <td>NaN</td>\n",
       "      <td>NaN</td>\n",
       "      <td>NaN</td>\n",
       "    </tr>\n",
       "  </tbody>\n",
       "</table>\n",
       "<p>5 rows × 26 columns</p>\n",
       "</div>"
      ],
      "text/plain": [
       "  duration_sec                start_time                  end_time  \\\n",
       "0        80110  2017-12-31 16:57:39.6540  2018-01-01 15:12:50.2450   \n",
       "1        78800  2017-12-31 15:56:34.8420  2018-01-01 13:49:55.6170   \n",
       "2        45768  2017-12-31 22:45:48.4110  2018-01-01 11:28:36.8830   \n",
       "3        62172  2017-12-31 17:31:10.6360  2018-01-01 10:47:23.5310   \n",
       "4        43603  2017-12-31 14:23:14.0010  2018-01-01 02:29:57.5710   \n",
       "\n",
       "  start_station_id                                 start_station_name  \\\n",
       "0               74                              Laguna St at Hayes St   \n",
       "1              284  Yerba Buena Center for the Arts (Howard St at ...   \n",
       "2              245                             Downtown Berkeley BART   \n",
       "3               60                               8th St at Ringold St   \n",
       "4              239                      Bancroft Way at Telegraph Ave   \n",
       "\n",
       "  start_station_latitude start_station_longitude end_station_id  \\\n",
       "0          37.7764348192         -122.4262440205             43   \n",
       "1          37.7848720844         -122.4008756876             96   \n",
       "2             37.8703477            -122.2677637            245   \n",
       "3          37.7745204011         -122.4094493687              5   \n",
       "4             37.8688126             -122.258764            247   \n",
       "\n",
       "                                    end_station_name end_station_latitude  \\\n",
       "0  San Francisco Public Library (Grove St at Hyde...           37.7787677   \n",
       "1                              Dolores St at 15th St           37.7662102   \n",
       "2                             Downtown Berkeley BART           37.8703477   \n",
       "3       Powell St BART Station (Market St at 5th St)        37.7838993571   \n",
       "4                          Fulton St at Bancroft Way           37.8677892   \n",
       "\n",
       "   ... rental_access_method ride_id rideable_type started_at ended_at  \\\n",
       "0  ...                  NaN     NaN           NaN        NaN      NaN   \n",
       "1  ...                  NaN     NaN           NaN        NaN      NaN   \n",
       "2  ...                  NaN     NaN           NaN        NaN      NaN   \n",
       "3  ...                  NaN     NaN           NaN        NaN      NaN   \n",
       "4  ...                  NaN     NaN           NaN        NaN      NaN   \n",
       "\n",
       "  start_lat start_lng end_lat end_lng member_casual  \n",
       "0       NaN       NaN     NaN     NaN           NaN  \n",
       "1       NaN       NaN     NaN     NaN           NaN  \n",
       "2       NaN       NaN     NaN     NaN           NaN  \n",
       "3       NaN       NaN     NaN     NaN           NaN  \n",
       "4       NaN       NaN     NaN     NaN           NaN  \n",
       "\n",
       "[5 rows x 26 columns]"
      ]
     },
     "execution_count": 11,
     "metadata": {},
     "output_type": "execute_result"
    }
   ],
   "source": [
    "df.head(5)"
   ]
  },
  {
   "cell_type": "code",
   "execution_count": 12,
   "metadata": {
    "slideshow": {
     "slide_type": "skip"
    }
   },
   "outputs": [
    {
     "name": "stdout",
     "output_type": "stream",
     "text": [
      "<class 'pandas.core.frame.DataFrame'>\n",
      "Int64Index: 5879670 entries, 0 to 989265\n",
      "Data columns (total 26 columns):\n",
      " #   Column                   Dtype \n",
      "---  ------                   ----- \n",
      " 0   duration_sec             object\n",
      " 1   start_time               object\n",
      " 2   end_time                 object\n",
      " 3   start_station_id         object\n",
      " 4   start_station_name       object\n",
      " 5   start_station_latitude   object\n",
      " 6   start_station_longitude  object\n",
      " 7   end_station_id           object\n",
      " 8   end_station_name         object\n",
      " 9   end_station_latitude     object\n",
      " 10  end_station_longitude    object\n",
      " 11  bike_id                  object\n",
      " 12  user_type                object\n",
      " 13  member_birth_year        object\n",
      " 14  member_gender            object\n",
      " 15  bike_share_for_all_trip  object\n",
      " 16  rental_access_method     object\n",
      " 17  ride_id                  object\n",
      " 18  rideable_type            object\n",
      " 19  started_at               object\n",
      " 20  ended_at                 object\n",
      " 21  start_lat                object\n",
      " 22  start_lng                object\n",
      " 23  end_lat                  object\n",
      " 24  end_lng                  object\n",
      " 25  member_casual            object\n",
      "dtypes: object(26)\n",
      "memory usage: 1.2+ GB\n"
     ]
    }
   ],
   "source": [
    "# check data:\n",
    "df.info()"
   ]
  },
  {
   "cell_type": "markdown",
   "metadata": {
    "slideshow": {
     "slide_type": "slide"
    }
   },
   "source": [
    "- Output: 5 879 670 rows, 26 columns.\n",
    "    * Data types - change."
   ]
  },
  {
   "cell_type": "code",
   "execution_count": 13,
   "metadata": {
    "slideshow": {
     "slide_type": "skip"
    }
   },
   "outputs": [
    {
     "data": {
      "text/html": [
       "<div>\n",
       "<style scoped>\n",
       "    .dataframe tbody tr th:only-of-type {\n",
       "        vertical-align: middle;\n",
       "    }\n",
       "\n",
       "    .dataframe tbody tr th {\n",
       "        vertical-align: top;\n",
       "    }\n",
       "\n",
       "    .dataframe thead th {\n",
       "        text-align: right;\n",
       "    }\n",
       "</style>\n",
       "<table border=\"1\" class=\"dataframe\">\n",
       "  <thead>\n",
       "    <tr style=\"text-align: right;\">\n",
       "      <th></th>\n",
       "      <th>duration_sec</th>\n",
       "      <th>start_time</th>\n",
       "      <th>end_time</th>\n",
       "      <th>start_station_id</th>\n",
       "      <th>start_station_name</th>\n",
       "      <th>start_station_latitude</th>\n",
       "      <th>start_station_longitude</th>\n",
       "      <th>end_station_id</th>\n",
       "      <th>end_station_name</th>\n",
       "      <th>end_station_latitude</th>\n",
       "      <th>...</th>\n",
       "      <th>rental_access_method</th>\n",
       "      <th>ride_id</th>\n",
       "      <th>rideable_type</th>\n",
       "      <th>started_at</th>\n",
       "      <th>ended_at</th>\n",
       "      <th>start_lat</th>\n",
       "      <th>start_lng</th>\n",
       "      <th>end_lat</th>\n",
       "      <th>end_lng</th>\n",
       "      <th>member_casual</th>\n",
       "    </tr>\n",
       "  </thead>\n",
       "  <tbody>\n",
       "    <tr>\n",
       "      <th>875085</th>\n",
       "      <td>184</td>\n",
       "      <td>2020-03-01 15:59:07</td>\n",
       "      <td>2020-03-01 16:02:12</td>\n",
       "      <td>NaN</td>\n",
       "      <td>NaN</td>\n",
       "      <td>37.2910223333</td>\n",
       "      <td>-121.8491438333</td>\n",
       "      <td>NaN</td>\n",
       "      <td>NaN</td>\n",
       "      <td>37.2944546667</td>\n",
       "      <td>...</td>\n",
       "      <td>clipper</td>\n",
       "      <td>NaN</td>\n",
       "      <td>NaN</td>\n",
       "      <td>NaN</td>\n",
       "      <td>NaN</td>\n",
       "      <td>NaN</td>\n",
       "      <td>NaN</td>\n",
       "      <td>NaN</td>\n",
       "      <td>NaN</td>\n",
       "      <td>NaN</td>\n",
       "    </tr>\n",
       "    <tr>\n",
       "      <th>875090</th>\n",
       "      <td>167</td>\n",
       "      <td>2020-03-01 21:03:10</td>\n",
       "      <td>2020-03-01 21:05:58</td>\n",
       "      <td>NaN</td>\n",
       "      <td>NaN</td>\n",
       "      <td>37.2911448333</td>\n",
       "      <td>-121.849215</td>\n",
       "      <td>NaN</td>\n",
       "      <td>NaN</td>\n",
       "      <td>37.2944523333</td>\n",
       "      <td>...</td>\n",
       "      <td>clipper</td>\n",
       "      <td>NaN</td>\n",
       "      <td>NaN</td>\n",
       "      <td>NaN</td>\n",
       "      <td>NaN</td>\n",
       "      <td>NaN</td>\n",
       "      <td>NaN</td>\n",
       "      <td>NaN</td>\n",
       "      <td>NaN</td>\n",
       "      <td>NaN</td>\n",
       "    </tr>\n",
       "    <tr>\n",
       "      <th>875113</th>\n",
       "      <td>515</td>\n",
       "      <td>2020-03-01 16:18:04</td>\n",
       "      <td>2020-03-01 16:26:40</td>\n",
       "      <td>NaN</td>\n",
       "      <td>NaN</td>\n",
       "      <td>37.2932331667</td>\n",
       "      <td>-121.881765</td>\n",
       "      <td>NaN</td>\n",
       "      <td>NaN</td>\n",
       "      <td>37.3057328333</td>\n",
       "      <td>...</td>\n",
       "      <td>app</td>\n",
       "      <td>NaN</td>\n",
       "      <td>NaN</td>\n",
       "      <td>NaN</td>\n",
       "      <td>NaN</td>\n",
       "      <td>NaN</td>\n",
       "      <td>NaN</td>\n",
       "      <td>NaN</td>\n",
       "      <td>NaN</td>\n",
       "      <td>NaN</td>\n",
       "    </tr>\n",
       "    <tr>\n",
       "      <th>875124</th>\n",
       "      <td>222</td>\n",
       "      <td>2020-03-01 12:51:13</td>\n",
       "      <td>2020-03-01 12:54:56</td>\n",
       "      <td>NaN</td>\n",
       "      <td>NaN</td>\n",
       "      <td>37.2936736667</td>\n",
       "      <td>-121.8519005</td>\n",
       "      <td>NaN</td>\n",
       "      <td>NaN</td>\n",
       "      <td>37.291026</td>\n",
       "      <td>...</td>\n",
       "      <td>clipper</td>\n",
       "      <td>NaN</td>\n",
       "      <td>NaN</td>\n",
       "      <td>NaN</td>\n",
       "      <td>NaN</td>\n",
       "      <td>NaN</td>\n",
       "      <td>NaN</td>\n",
       "      <td>NaN</td>\n",
       "      <td>NaN</td>\n",
       "      <td>NaN</td>\n",
       "    </tr>\n",
       "    <tr>\n",
       "      <th>875158</th>\n",
       "      <td>197</td>\n",
       "      <td>2020-03-01 16:46:45</td>\n",
       "      <td>2020-03-01 16:50:03</td>\n",
       "      <td>NaN</td>\n",
       "      <td>NaN</td>\n",
       "      <td>37.2944796667</td>\n",
       "      <td>-121.8524443333</td>\n",
       "      <td>NaN</td>\n",
       "      <td>NaN</td>\n",
       "      <td>37.2911455</td>\n",
       "      <td>...</td>\n",
       "      <td>clipper</td>\n",
       "      <td>NaN</td>\n",
       "      <td>NaN</td>\n",
       "      <td>NaN</td>\n",
       "      <td>NaN</td>\n",
       "      <td>NaN</td>\n",
       "      <td>NaN</td>\n",
       "      <td>NaN</td>\n",
       "      <td>NaN</td>\n",
       "      <td>NaN</td>\n",
       "    </tr>\n",
       "    <tr>\n",
       "      <th>...</th>\n",
       "      <td>...</td>\n",
       "      <td>...</td>\n",
       "      <td>...</td>\n",
       "      <td>...</td>\n",
       "      <td>...</td>\n",
       "      <td>...</td>\n",
       "      <td>...</td>\n",
       "      <td>...</td>\n",
       "      <td>...</td>\n",
       "      <td>...</td>\n",
       "      <td>...</td>\n",
       "      <td>...</td>\n",
       "      <td>...</td>\n",
       "      <td>...</td>\n",
       "      <td>...</td>\n",
       "      <td>...</td>\n",
       "      <td>...</td>\n",
       "      <td>...</td>\n",
       "      <td>...</td>\n",
       "      <td>...</td>\n",
       "      <td>...</td>\n",
       "    </tr>\n",
       "    <tr>\n",
       "      <th>989232</th>\n",
       "      <td>2101</td>\n",
       "      <td>2020-03-01 15:34:57</td>\n",
       "      <td>2020-03-01 16:09:59</td>\n",
       "      <td>NaN</td>\n",
       "      <td>NaN</td>\n",
       "      <td>37.8090655</td>\n",
       "      <td>-122.4748503333</td>\n",
       "      <td>NaN</td>\n",
       "      <td>NaN</td>\n",
       "      <td>37.80521</td>\n",
       "      <td>...</td>\n",
       "      <td>app</td>\n",
       "      <td>NaN</td>\n",
       "      <td>NaN</td>\n",
       "      <td>NaN</td>\n",
       "      <td>NaN</td>\n",
       "      <td>NaN</td>\n",
       "      <td>NaN</td>\n",
       "      <td>NaN</td>\n",
       "      <td>NaN</td>\n",
       "      <td>NaN</td>\n",
       "    </tr>\n",
       "    <tr>\n",
       "      <th>989233</th>\n",
       "      <td>2205</td>\n",
       "      <td>2020-03-01 15:36:34</td>\n",
       "      <td>2020-03-01 16:13:19</td>\n",
       "      <td>NaN</td>\n",
       "      <td>NaN</td>\n",
       "      <td>37.8090743333</td>\n",
       "      <td>-122.4749183333</td>\n",
       "      <td>NaN</td>\n",
       "      <td>NaN</td>\n",
       "      <td>37.8051858333</td>\n",
       "      <td>...</td>\n",
       "      <td>app</td>\n",
       "      <td>NaN</td>\n",
       "      <td>NaN</td>\n",
       "      <td>NaN</td>\n",
       "      <td>NaN</td>\n",
       "      <td>NaN</td>\n",
       "      <td>NaN</td>\n",
       "      <td>NaN</td>\n",
       "      <td>NaN</td>\n",
       "      <td>NaN</td>\n",
       "    </tr>\n",
       "    <tr>\n",
       "      <th>989234</th>\n",
       "      <td>2035</td>\n",
       "      <td>2020-03-01 15:36:28</td>\n",
       "      <td>2020-03-01 16:10:23</td>\n",
       "      <td>NaN</td>\n",
       "      <td>NaN</td>\n",
       "      <td>37.8091003333</td>\n",
       "      <td>-122.474939</td>\n",
       "      <td>NaN</td>\n",
       "      <td>NaN</td>\n",
       "      <td>37.8051731667</td>\n",
       "      <td>...</td>\n",
       "      <td>app</td>\n",
       "      <td>NaN</td>\n",
       "      <td>NaN</td>\n",
       "      <td>NaN</td>\n",
       "      <td>NaN</td>\n",
       "      <td>NaN</td>\n",
       "      <td>NaN</td>\n",
       "      <td>NaN</td>\n",
       "      <td>NaN</td>\n",
       "      <td>NaN</td>\n",
       "    </tr>\n",
       "    <tr>\n",
       "      <th>989237</th>\n",
       "      <td>1183</td>\n",
       "      <td>2020-03-01 12:26:56</td>\n",
       "      <td>2020-03-01 12:46:40</td>\n",
       "      <td>NaN</td>\n",
       "      <td>NaN</td>\n",
       "      <td>37.8091378333</td>\n",
       "      <td>-122.415689</td>\n",
       "      <td>NaN</td>\n",
       "      <td>NaN</td>\n",
       "      <td>37.8061951667</td>\n",
       "      <td>...</td>\n",
       "      <td>app</td>\n",
       "      <td>NaN</td>\n",
       "      <td>NaN</td>\n",
       "      <td>NaN</td>\n",
       "      <td>NaN</td>\n",
       "      <td>NaN</td>\n",
       "      <td>NaN</td>\n",
       "      <td>NaN</td>\n",
       "      <td>NaN</td>\n",
       "      <td>NaN</td>\n",
       "    </tr>\n",
       "    <tr>\n",
       "      <th>989244</th>\n",
       "      <td>1018</td>\n",
       "      <td>2020-03-01 12:29:54</td>\n",
       "      <td>2020-03-01 12:46:53</td>\n",
       "      <td>NaN</td>\n",
       "      <td>NaN</td>\n",
       "      <td>37.8091765</td>\n",
       "      <td>-122.4157536667</td>\n",
       "      <td>NaN</td>\n",
       "      <td>NaN</td>\n",
       "      <td>37.8061583333</td>\n",
       "      <td>...</td>\n",
       "      <td>app</td>\n",
       "      <td>NaN</td>\n",
       "      <td>NaN</td>\n",
       "      <td>NaN</td>\n",
       "      <td>NaN</td>\n",
       "      <td>NaN</td>\n",
       "      <td>NaN</td>\n",
       "      <td>NaN</td>\n",
       "      <td>NaN</td>\n",
       "      <td>NaN</td>\n",
       "    </tr>\n",
       "  </tbody>\n",
       "</table>\n",
       "<p>7512 rows × 26 columns</p>\n",
       "</div>"
      ],
      "text/plain": [
       "       duration_sec           start_time             end_time  \\\n",
       "875085          184  2020-03-01 15:59:07  2020-03-01 16:02:12   \n",
       "875090          167  2020-03-01 21:03:10  2020-03-01 21:05:58   \n",
       "875113          515  2020-03-01 16:18:04  2020-03-01 16:26:40   \n",
       "875124          222  2020-03-01 12:51:13  2020-03-01 12:54:56   \n",
       "875158          197  2020-03-01 16:46:45  2020-03-01 16:50:03   \n",
       "...             ...                  ...                  ...   \n",
       "989232         2101  2020-03-01 15:34:57  2020-03-01 16:09:59   \n",
       "989233         2205  2020-03-01 15:36:34  2020-03-01 16:13:19   \n",
       "989234         2035  2020-03-01 15:36:28  2020-03-01 16:10:23   \n",
       "989237         1183  2020-03-01 12:26:56  2020-03-01 12:46:40   \n",
       "989244         1018  2020-03-01 12:29:54  2020-03-01 12:46:53   \n",
       "\n",
       "       start_station_id start_station_name start_station_latitude  \\\n",
       "875085              NaN                NaN          37.2910223333   \n",
       "875090              NaN                NaN          37.2911448333   \n",
       "875113              NaN                NaN          37.2932331667   \n",
       "875124              NaN                NaN          37.2936736667   \n",
       "875158              NaN                NaN          37.2944796667   \n",
       "...                 ...                ...                    ...   \n",
       "989232              NaN                NaN             37.8090655   \n",
       "989233              NaN                NaN          37.8090743333   \n",
       "989234              NaN                NaN          37.8091003333   \n",
       "989237              NaN                NaN          37.8091378333   \n",
       "989244              NaN                NaN             37.8091765   \n",
       "\n",
       "       start_station_longitude end_station_id end_station_name  \\\n",
       "875085         -121.8491438333            NaN              NaN   \n",
       "875090             -121.849215            NaN              NaN   \n",
       "875113             -121.881765            NaN              NaN   \n",
       "875124            -121.8519005            NaN              NaN   \n",
       "875158         -121.8524443333            NaN              NaN   \n",
       "...                        ...            ...              ...   \n",
       "989232         -122.4748503333            NaN              NaN   \n",
       "989233         -122.4749183333            NaN              NaN   \n",
       "989234             -122.474939            NaN              NaN   \n",
       "989237             -122.415689            NaN              NaN   \n",
       "989244         -122.4157536667            NaN              NaN   \n",
       "\n",
       "       end_station_latitude  ... rental_access_method ride_id rideable_type  \\\n",
       "875085        37.2944546667  ...              clipper     NaN           NaN   \n",
       "875090        37.2944523333  ...              clipper     NaN           NaN   \n",
       "875113        37.3057328333  ...                  app     NaN           NaN   \n",
       "875124            37.291026  ...              clipper     NaN           NaN   \n",
       "875158           37.2911455  ...              clipper     NaN           NaN   \n",
       "...                     ...  ...                  ...     ...           ...   \n",
       "989232             37.80521  ...                  app     NaN           NaN   \n",
       "989233        37.8051858333  ...                  app     NaN           NaN   \n",
       "989234        37.8051731667  ...                  app     NaN           NaN   \n",
       "989237        37.8061951667  ...                  app     NaN           NaN   \n",
       "989244        37.8061583333  ...                  app     NaN           NaN   \n",
       "\n",
       "       started_at ended_at start_lat start_lng end_lat end_lng member_casual  \n",
       "875085        NaN      NaN       NaN       NaN     NaN     NaN           NaN  \n",
       "875090        NaN      NaN       NaN       NaN     NaN     NaN           NaN  \n",
       "875113        NaN      NaN       NaN       NaN     NaN     NaN           NaN  \n",
       "875124        NaN      NaN       NaN       NaN     NaN     NaN           NaN  \n",
       "875158        NaN      NaN       NaN       NaN     NaN     NaN           NaN  \n",
       "...           ...      ...       ...       ...     ...     ...           ...  \n",
       "989232        NaN      NaN       NaN       NaN     NaN     NaN           NaN  \n",
       "989233        NaN      NaN       NaN       NaN     NaN     NaN           NaN  \n",
       "989234        NaN      NaN       NaN       NaN     NaN     NaN           NaN  \n",
       "989237        NaN      NaN       NaN       NaN     NaN     NaN           NaN  \n",
       "989244        NaN      NaN       NaN       NaN     NaN     NaN           NaN  \n",
       "\n",
       "[7512 rows x 26 columns]"
      ]
     },
     "execution_count": 13,
     "metadata": {},
     "output_type": "execute_result"
    }
   ],
   "source": [
    "df[df.duplicated()]"
   ]
  },
  {
   "cell_type": "markdown",
   "metadata": {
    "slideshow": {
     "slide_type": "skip"
    }
   },
   "source": [
    "   * Duplicates ( 7512 rows )- remove."
   ]
  },
  {
   "cell_type": "code",
   "execution_count": 14,
   "metadata": {
    "slideshow": {
     "slide_type": "skip"
    }
   },
   "outputs": [
    {
     "name": "stdout",
     "output_type": "stream",
     "text": [
      "NumExpr defaulting to 4 threads.\n"
     ]
    },
    {
     "data": {
      "text/html": [
       "<div>\n",
       "<style scoped>\n",
       "    .dataframe tbody tr th:only-of-type {\n",
       "        vertical-align: middle;\n",
       "    }\n",
       "\n",
       "    .dataframe tbody tr th {\n",
       "        vertical-align: top;\n",
       "    }\n",
       "\n",
       "    .dataframe thead th {\n",
       "        text-align: right;\n",
       "    }\n",
       "</style>\n",
       "<table border=\"1\" class=\"dataframe\">\n",
       "  <thead>\n",
       "    <tr style=\"text-align: right;\">\n",
       "      <th></th>\n",
       "      <th>duration_sec</th>\n",
       "      <th>start_time</th>\n",
       "      <th>end_time</th>\n",
       "      <th>start_station_id</th>\n",
       "      <th>start_station_name</th>\n",
       "      <th>start_station_latitude</th>\n",
       "      <th>start_station_longitude</th>\n",
       "      <th>end_station_id</th>\n",
       "      <th>end_station_name</th>\n",
       "      <th>end_station_latitude</th>\n",
       "      <th>...</th>\n",
       "      <th>rental_access_method</th>\n",
       "      <th>ride_id</th>\n",
       "      <th>rideable_type</th>\n",
       "      <th>started_at</th>\n",
       "      <th>ended_at</th>\n",
       "      <th>start_lat</th>\n",
       "      <th>start_lng</th>\n",
       "      <th>end_lat</th>\n",
       "      <th>end_lng</th>\n",
       "      <th>member_casual</th>\n",
       "    </tr>\n",
       "  </thead>\n",
       "  <tbody>\n",
       "    <tr>\n",
       "      <th>410407</th>\n",
       "      <td>184</td>\n",
       "      <td>2020-03-01 15:59:07</td>\n",
       "      <td>2020-03-01 16:02:12</td>\n",
       "      <td>NaN</td>\n",
       "      <td>NaN</td>\n",
       "      <td>37.2910223333</td>\n",
       "      <td>-121.8491438333</td>\n",
       "      <td>NaN</td>\n",
       "      <td>NaN</td>\n",
       "      <td>37.2944546667</td>\n",
       "      <td>...</td>\n",
       "      <td>clipper</td>\n",
       "      <td>NaN</td>\n",
       "      <td>NaN</td>\n",
       "      <td>NaN</td>\n",
       "      <td>NaN</td>\n",
       "      <td>NaN</td>\n",
       "      <td>NaN</td>\n",
       "      <td>NaN</td>\n",
       "      <td>NaN</td>\n",
       "      <td>NaN</td>\n",
       "    </tr>\n",
       "    <tr>\n",
       "      <th>557650</th>\n",
       "      <td>610</td>\n",
       "      <td>2020-03-01 15:59:07</td>\n",
       "      <td>2020-03-01 16:09:17</td>\n",
       "      <td>NaN</td>\n",
       "      <td>NaN</td>\n",
       "      <td>37.7755925</td>\n",
       "      <td>-122.3927888333</td>\n",
       "      <td>43</td>\n",
       "      <td>San Francisco Public Library (Grove St at Hyde...</td>\n",
       "      <td>37.7787677</td>\n",
       "      <td>...</td>\n",
       "      <td>clipper</td>\n",
       "      <td>NaN</td>\n",
       "      <td>NaN</td>\n",
       "      <td>NaN</td>\n",
       "      <td>NaN</td>\n",
       "      <td>NaN</td>\n",
       "      <td>NaN</td>\n",
       "      <td>NaN</td>\n",
       "      <td>NaN</td>\n",
       "      <td>NaN</td>\n",
       "    </tr>\n",
       "    <tr>\n",
       "      <th>875085</th>\n",
       "      <td>184</td>\n",
       "      <td>2020-03-01 15:59:07</td>\n",
       "      <td>2020-03-01 16:02:12</td>\n",
       "      <td>NaN</td>\n",
       "      <td>NaN</td>\n",
       "      <td>37.2910223333</td>\n",
       "      <td>-121.8491438333</td>\n",
       "      <td>NaN</td>\n",
       "      <td>NaN</td>\n",
       "      <td>37.2944546667</td>\n",
       "      <td>...</td>\n",
       "      <td>clipper</td>\n",
       "      <td>NaN</td>\n",
       "      <td>NaN</td>\n",
       "      <td>NaN</td>\n",
       "      <td>NaN</td>\n",
       "      <td>NaN</td>\n",
       "      <td>NaN</td>\n",
       "      <td>NaN</td>\n",
       "      <td>NaN</td>\n",
       "      <td>NaN</td>\n",
       "    </tr>\n",
       "    <tr>\n",
       "      <th>935068</th>\n",
       "      <td>610</td>\n",
       "      <td>2020-03-01 15:59:07</td>\n",
       "      <td>2020-03-01 16:09:17</td>\n",
       "      <td>NaN</td>\n",
       "      <td>NaN</td>\n",
       "      <td>37.7755925</td>\n",
       "      <td>-122.3927888333</td>\n",
       "      <td>43</td>\n",
       "      <td>San Francisco Public Library (Grove St at Hyde...</td>\n",
       "      <td>37.7787677</td>\n",
       "      <td>...</td>\n",
       "      <td>clipper</td>\n",
       "      <td>NaN</td>\n",
       "      <td>NaN</td>\n",
       "      <td>NaN</td>\n",
       "      <td>NaN</td>\n",
       "      <td>NaN</td>\n",
       "      <td>NaN</td>\n",
       "      <td>NaN</td>\n",
       "      <td>NaN</td>\n",
       "      <td>NaN</td>\n",
       "    </tr>\n",
       "  </tbody>\n",
       "</table>\n",
       "<p>4 rows × 26 columns</p>\n",
       "</div>"
      ],
      "text/plain": [
       "       duration_sec           start_time             end_time  \\\n",
       "410407          184  2020-03-01 15:59:07  2020-03-01 16:02:12   \n",
       "557650          610  2020-03-01 15:59:07  2020-03-01 16:09:17   \n",
       "875085          184  2020-03-01 15:59:07  2020-03-01 16:02:12   \n",
       "935068          610  2020-03-01 15:59:07  2020-03-01 16:09:17   \n",
       "\n",
       "       start_station_id start_station_name start_station_latitude  \\\n",
       "410407              NaN                NaN          37.2910223333   \n",
       "557650              NaN                NaN             37.7755925   \n",
       "875085              NaN                NaN          37.2910223333   \n",
       "935068              NaN                NaN             37.7755925   \n",
       "\n",
       "       start_station_longitude end_station_id  \\\n",
       "410407         -121.8491438333            NaN   \n",
       "557650         -122.3927888333             43   \n",
       "875085         -121.8491438333            NaN   \n",
       "935068         -122.3927888333             43   \n",
       "\n",
       "                                         end_station_name  \\\n",
       "410407                                                NaN   \n",
       "557650  San Francisco Public Library (Grove St at Hyde...   \n",
       "875085                                                NaN   \n",
       "935068  San Francisco Public Library (Grove St at Hyde...   \n",
       "\n",
       "       end_station_latitude  ... rental_access_method ride_id rideable_type  \\\n",
       "410407        37.2944546667  ...              clipper     NaN           NaN   \n",
       "557650           37.7787677  ...              clipper     NaN           NaN   \n",
       "875085        37.2944546667  ...              clipper     NaN           NaN   \n",
       "935068           37.7787677  ...              clipper     NaN           NaN   \n",
       "\n",
       "       started_at ended_at start_lat start_lng end_lat end_lng member_casual  \n",
       "410407        NaN      NaN       NaN       NaN     NaN     NaN           NaN  \n",
       "557650        NaN      NaN       NaN       NaN     NaN     NaN           NaN  \n",
       "875085        NaN      NaN       NaN       NaN     NaN     NaN           NaN  \n",
       "935068        NaN      NaN       NaN       NaN     NaN     NaN           NaN  \n",
       "\n",
       "[4 rows x 26 columns]"
      ]
     },
     "execution_count": 14,
     "metadata": {},
     "output_type": "execute_result"
    }
   ],
   "source": [
    "df.query('start_time == \"2020-03-01 15:59:07\"')"
   ]
  },
  {
   "cell_type": "markdown",
   "metadata": {
    "slideshow": {
     "slide_type": "skip"
    }
   },
   "source": [
    "  * Check if there is a row with end_station_name is null/NaN and its end_station_latitude & end_station_longitude are equal to end_station_latitude & end_station_longitude of another row with end_station_name that is not Null/NaN  - then end_station_name of first row make equal to the second one."
   ]
  },
  {
   "cell_type": "code",
   "execution_count": 15,
   "metadata": {
    "slideshow": {
     "slide_type": "subslide"
    }
   },
   "outputs": [
    {
     "data": {
      "text/plain": [
       "duration_sec                1.433057\n",
       "start_time                  1.433057\n",
       "end_time                    1.433057\n",
       "start_station_id           10.368473\n",
       "start_station_name         10.337281\n",
       "start_station_latitude      1.433057\n",
       "start_station_longitude     1.433057\n",
       "end_station_id             10.423306\n",
       "end_station_name           10.392250\n",
       "end_station_latitude        1.433057\n",
       "end_station_longitude       1.433057\n",
       "bike_id                     1.433057\n",
       "user_type                   1.433057\n",
       "member_birth_year          56.068963\n",
       "member_gender              56.062942\n",
       "bike_share_for_all_trip    29.801417\n",
       "rental_access_method       87.436438\n",
       "ride_id                    98.566943\n",
       "rideable_type              98.566943\n",
       "started_at                 98.566943\n",
       "ended_at                   98.566943\n",
       "start_lat                  98.566943\n",
       "start_lng                  98.566943\n",
       "end_lat                    98.569358\n",
       "end_lng                    98.569358\n",
       "member_casual              98.566943\n",
       "dtype: float64"
      ]
     },
     "execution_count": 15,
     "metadata": {},
     "output_type": "execute_result"
    }
   ],
   "source": [
    "# check empty rows in as a % of all data:\n",
    "100 * df.isnull().sum() / len(df)"
   ]
  },
  {
   "cell_type": "markdown",
   "metadata": {
    "slideshow": {
     "slide_type": "slide"
    }
   },
   "source": [
    "- Output: member_birth_year, member_gender, bike_share_for_all_trip, rental_access_method, rideable_type, member_casual - % of missing value is extremely high for data analyses.\n",
    "    * Check these columns for each year separately."
   ]
  },
  {
   "cell_type": "code",
   "execution_count": 16,
   "metadata": {
    "slideshow": {
     "slide_type": "skip"
    }
   },
   "outputs": [],
   "source": [
    "# copy df:\n",
    "df2 = df.copy()"
   ]
  },
  {
   "cell_type": "code",
   "execution_count": 17,
   "metadata": {
    "slideshow": {
     "slide_type": "skip"
    }
   },
   "outputs": [],
   "source": [
    "# remove duplicates:\n",
    "df2.drop_duplicates(inplace = True)"
   ]
  },
  {
   "cell_type": "code",
   "execution_count": 50,
   "metadata": {
    "slideshow": {
     "slide_type": "skip"
    }
   },
   "outputs": [],
   "source": [
    "# change data types:\n",
    "\n",
    "# object to datetime and create new columns:\n",
    "\n",
    "df2['start_time']  = pd.to_datetime(df2['start_time'])\n",
    "\n",
    "df2['start_year']  = df2['start_time'].dt.year\n",
    "df2['start_month']  = df2['start_time'].dt.month\n",
    "df2['start_day']  = df2['start_time'].dt.day\n",
    "df2['start_weekday'] = df2['start_time'].dt.weekday\n",
    "df2['start_hour'] = df2['start_time'].dt.hour\n",
    "\n",
    "df2['end_time']  = pd.to_datetime(df2['end_time'])"
   ]
  },
  {
   "cell_type": "code",
   "execution_count": 19,
   "metadata": {
    "slideshow": {
     "slide_type": "skip"
    }
   },
   "outputs": [],
   "source": [
    "# object to float:     \n",
    "df2['start_station_latitude']  = pd.to_numeric(df2['start_station_latitude'], errors='coerce', downcast='float')\n",
    "df2['start_station_longitude']  = pd.to_numeric(df2['start_station_longitude'], errors='coerce', downcast='float')\n",
    "\n",
    "df2['end_station_latitude']  = pd.to_numeric(df2['end_station_latitude'], errors='coerce', downcast='float')\n",
    "df2['end_station_longitude']  = pd.to_numeric(df2['end_station_longitude'], errors='coerce', downcast='float')"
   ]
  },
  {
   "cell_type": "code",
   "execution_count": 20,
   "metadata": {
    "slideshow": {
     "slide_type": "skip"
    }
   },
   "outputs": [],
   "source": [
    "# replace Nan -> '' for string data\n",
    "df2.fillna({'member_gender':'','bike_share_for_all_trip':'','rental_access_method':''}, inplace=True)"
   ]
  },
  {
   "cell_type": "code",
   "execution_count": 21,
   "metadata": {
    "slideshow": {
     "slide_type": "skip"
    }
   },
   "outputs": [],
   "source": [
    "# replace Nan -> 0 for numeric data\n",
    "df2.fillna({'start_station_id':0,'end_station_id':0, 'member_birth_year':0}, inplace=True)"
   ]
  },
  {
   "cell_type": "code",
   "execution_count": 37,
   "metadata": {
    "slideshow": {
     "slide_type": "skip"
    }
   },
   "outputs": [],
   "source": [
    "# object to int:\n",
    "df2['bike_id']  = pd.to_numeric(df2['bike_id'], errors='coerce', downcast='integer')\n",
    "df2['start_station_id']  = pd.to_numeric(df2['start_station_id'], errors='coerce', downcast='integer')\n",
    "df2['end_station_id']  = pd.to_numeric(df2['end_station_id'], errors='coerce', downcast='integer')\n",
    "df2['member_birth_year']  = pd.to_numeric(df2['member_birth_year'], errors='coerce', downcast='integer')\n",
    "df2['duration_sec']  = pd.to_numeric(df2['duration_sec'], errors='coerce', downcast='integer')\n",
    "\n",
    "df2['duration_min'] = round(df2['duration_sec']/60)\n",
    "df2['duration_min']  = pd.to_numeric(df2['duration_min'], errors='coerce', downcast='integer')\n"
   ]
  },
  {
   "cell_type": "code",
   "execution_count": 32,
   "metadata": {
    "slideshow": {
     "slide_type": "skip"
    }
   },
   "outputs": [],
   "source": [
    "# drop columns:\n",
    "df2.drop(['duration_sec','start_time','started_at','ended_at', 'start_lat','start_lng','end_lat','end_lng','rideable_type','ride_id','member_casual'], axis = 1, inplace = True)"
   ]
  },
  {
   "cell_type": "code",
   "execution_count": 48,
   "metadata": {
    "slideshow": {
     "slide_type": "skip"
    }
   },
   "outputs": [
    {
     "data": {
      "text/plain": [
       "end_time                   datetime64[ns]\n",
       "start_station_id                    int16\n",
       "start_station_name                 object\n",
       "start_station_latitude            float32\n",
       "start_station_longitude           float32\n",
       "end_station_id                      int16\n",
       "end_station_name                   object\n",
       "end_station_latitude              float32\n",
       "end_station_longitude             float32\n",
       "bike_id                           float64\n",
       "user_type                          object\n",
       "member_birth_year                   int16\n",
       "member_gender                      object\n",
       "bike_share_for_all_trip            object\n",
       "rental_access_method               object\n",
       "start_year                        float64\n",
       "start_month                       float64\n",
       "start_day                         float64\n",
       "start_weekday                     float64\n",
       "start_hour                        float64\n",
       "duration_min                      float64\n",
       "dtype: object"
      ]
     },
     "execution_count": 48,
     "metadata": {},
     "output_type": "execute_result"
    }
   ],
   "source": [
    "df2.dtypes"
   ]
  },
  {
   "cell_type": "code",
   "execution_count": 49,
   "metadata": {
    "slideshow": {
     "slide_type": "skip"
    }
   },
   "outputs": [
    {
     "data": {
      "text/html": [
       "<div>\n",
       "<style scoped>\n",
       "    .dataframe tbody tr th:only-of-type {\n",
       "        vertical-align: middle;\n",
       "    }\n",
       "\n",
       "    .dataframe tbody tr th {\n",
       "        vertical-align: top;\n",
       "    }\n",
       "\n",
       "    .dataframe thead th {\n",
       "        text-align: right;\n",
       "    }\n",
       "</style>\n",
       "<table border=\"1\" class=\"dataframe\">\n",
       "  <thead>\n",
       "    <tr style=\"text-align: right;\">\n",
       "      <th></th>\n",
       "      <th>end_time</th>\n",
       "      <th>start_station_id</th>\n",
       "      <th>start_station_name</th>\n",
       "      <th>start_station_latitude</th>\n",
       "      <th>start_station_longitude</th>\n",
       "      <th>end_station_id</th>\n",
       "      <th>end_station_name</th>\n",
       "      <th>end_station_latitude</th>\n",
       "      <th>end_station_longitude</th>\n",
       "      <th>bike_id</th>\n",
       "      <th>...</th>\n",
       "      <th>member_birth_year</th>\n",
       "      <th>member_gender</th>\n",
       "      <th>bike_share_for_all_trip</th>\n",
       "      <th>rental_access_method</th>\n",
       "      <th>start_year</th>\n",
       "      <th>start_month</th>\n",
       "      <th>start_day</th>\n",
       "      <th>start_weekday</th>\n",
       "      <th>start_hour</th>\n",
       "      <th>duration_min</th>\n",
       "    </tr>\n",
       "  </thead>\n",
       "  <tbody>\n",
       "    <tr>\n",
       "      <th>350935</th>\n",
       "      <td>2020-02-17 13:58:08.996</td>\n",
       "      <td>278</td>\n",
       "      <td>The Alameda at Bush St</td>\n",
       "      <td>37.331932</td>\n",
       "      <td>-121.904892</td>\n",
       "      <td>402</td>\n",
       "      <td>Raymond Bernal Jr Memorial Park (8th St at Hed...</td>\n",
       "      <td>37.356834</td>\n",
       "      <td>-121.895935</td>\n",
       "      <td>12009.0</td>\n",
       "      <td>...</td>\n",
       "      <td>0</td>\n",
       "      <td></td>\n",
       "      <td></td>\n",
       "      <td></td>\n",
       "      <td>2020.0</td>\n",
       "      <td>2.0</td>\n",
       "      <td>17.0</td>\n",
       "      <td>0.0</td>\n",
       "      <td>13.0</td>\n",
       "      <td>19.0</td>\n",
       "    </tr>\n",
       "    <tr>\n",
       "      <th>210277</th>\n",
       "      <td>2017-10-24 11:14:48.394</td>\n",
       "      <td>146</td>\n",
       "      <td>30th St at San Jose Ave</td>\n",
       "      <td>37.742313</td>\n",
       "      <td>-122.423180</td>\n",
       "      <td>138</td>\n",
       "      <td>Jersey St at Church St</td>\n",
       "      <td>37.750900</td>\n",
       "      <td>-122.427414</td>\n",
       "      <td>2138.0</td>\n",
       "      <td>...</td>\n",
       "      <td>0</td>\n",
       "      <td></td>\n",
       "      <td></td>\n",
       "      <td></td>\n",
       "      <td>2017.0</td>\n",
       "      <td>10.0</td>\n",
       "      <td>24.0</td>\n",
       "      <td>1.0</td>\n",
       "      <td>11.0</td>\n",
       "      <td>7.0</td>\n",
       "    </tr>\n",
       "    <tr>\n",
       "      <th>2201343</th>\n",
       "      <td>2019-11-18 13:32:04.682</td>\n",
       "      <td>58</td>\n",
       "      <td>Market St at 10th St</td>\n",
       "      <td>37.776619</td>\n",
       "      <td>-122.417381</td>\n",
       "      <td>6</td>\n",
       "      <td>The Embarcadero at Sansome St</td>\n",
       "      <td>37.804771</td>\n",
       "      <td>-122.403236</td>\n",
       "      <td>2561.0</td>\n",
       "      <td>...</td>\n",
       "      <td>0</td>\n",
       "      <td></td>\n",
       "      <td>No</td>\n",
       "      <td></td>\n",
       "      <td>2019.0</td>\n",
       "      <td>11.0</td>\n",
       "      <td>18.0</td>\n",
       "      <td>0.0</td>\n",
       "      <td>13.0</td>\n",
       "      <td>21.0</td>\n",
       "    </tr>\n",
       "    <tr>\n",
       "      <th>2266841</th>\n",
       "      <td>2019-11-08 14:21:09.210</td>\n",
       "      <td>460</td>\n",
       "      <td>Terry Francois Blvd at Warriors Way</td>\n",
       "      <td>37.769096</td>\n",
       "      <td>-122.386330</td>\n",
       "      <td>3</td>\n",
       "      <td>Powell St BART Station (Market St at 4th St)</td>\n",
       "      <td>37.786377</td>\n",
       "      <td>-122.404907</td>\n",
       "      <td>9951.0</td>\n",
       "      <td>...</td>\n",
       "      <td>0</td>\n",
       "      <td></td>\n",
       "      <td>No</td>\n",
       "      <td></td>\n",
       "      <td>2019.0</td>\n",
       "      <td>11.0</td>\n",
       "      <td>8.0</td>\n",
       "      <td>4.0</td>\n",
       "      <td>14.0</td>\n",
       "      <td>16.0</td>\n",
       "    </tr>\n",
       "    <tr>\n",
       "      <th>642274</th>\n",
       "      <td>2020-02-16 14:05:24.000</td>\n",
       "      <td>369</td>\n",
       "      <td>Hyde St at Post St</td>\n",
       "      <td>37.787350</td>\n",
       "      <td>-122.416649</td>\n",
       "      <td>0</td>\n",
       "      <td>NaN</td>\n",
       "      <td>37.784477</td>\n",
       "      <td>-122.404305</td>\n",
       "      <td>483212.0</td>\n",
       "      <td>...</td>\n",
       "      <td>0</td>\n",
       "      <td></td>\n",
       "      <td></td>\n",
       "      <td>app</td>\n",
       "      <td>2020.0</td>\n",
       "      <td>2.0</td>\n",
       "      <td>16.0</td>\n",
       "      <td>6.0</td>\n",
       "      <td>13.0</td>\n",
       "      <td>14.0</td>\n",
       "    </tr>\n",
       "  </tbody>\n",
       "</table>\n",
       "<p>5 rows × 21 columns</p>\n",
       "</div>"
      ],
      "text/plain": [
       "                       end_time  start_station_id  \\\n",
       "350935  2020-02-17 13:58:08.996               278   \n",
       "210277  2017-10-24 11:14:48.394               146   \n",
       "2201343 2019-11-18 13:32:04.682                58   \n",
       "2266841 2019-11-08 14:21:09.210               460   \n",
       "642274  2020-02-16 14:05:24.000               369   \n",
       "\n",
       "                          start_station_name  start_station_latitude  \\\n",
       "350935                The Alameda at Bush St               37.331932   \n",
       "210277               30th St at San Jose Ave               37.742313   \n",
       "2201343                 Market St at 10th St               37.776619   \n",
       "2266841  Terry Francois Blvd at Warriors Way               37.769096   \n",
       "642274                    Hyde St at Post St               37.787350   \n",
       "\n",
       "         start_station_longitude  end_station_id  \\\n",
       "350935               -121.904892             402   \n",
       "210277               -122.423180             138   \n",
       "2201343              -122.417381               6   \n",
       "2266841              -122.386330               3   \n",
       "642274               -122.416649               0   \n",
       "\n",
       "                                          end_station_name  \\\n",
       "350935   Raymond Bernal Jr Memorial Park (8th St at Hed...   \n",
       "210277                              Jersey St at Church St   \n",
       "2201343                      The Embarcadero at Sansome St   \n",
       "2266841       Powell St BART Station (Market St at 4th St)   \n",
       "642274                                                 NaN   \n",
       "\n",
       "         end_station_latitude  end_station_longitude   bike_id  ...  \\\n",
       "350935              37.356834            -121.895935   12009.0  ...   \n",
       "210277              37.750900            -122.427414    2138.0  ...   \n",
       "2201343             37.804771            -122.403236    2561.0  ...   \n",
       "2266841             37.786377            -122.404907    9951.0  ...   \n",
       "642274              37.784477            -122.404305  483212.0  ...   \n",
       "\n",
       "        member_birth_year  member_gender bike_share_for_all_trip  \\\n",
       "350935                  0                                          \n",
       "210277                  0                                          \n",
       "2201343                 0                                     No   \n",
       "2266841                 0                                     No   \n",
       "642274                  0                                          \n",
       "\n",
       "        rental_access_method start_year  start_month  start_day  \\\n",
       "350935                           2020.0          2.0       17.0   \n",
       "210277                           2017.0         10.0       24.0   \n",
       "2201343                          2019.0         11.0       18.0   \n",
       "2266841                          2019.0         11.0        8.0   \n",
       "642274                   app     2020.0          2.0       16.0   \n",
       "\n",
       "         start_weekday  start_hour  duration_min  \n",
       "350935             0.0        13.0          19.0  \n",
       "210277             1.0        11.0           7.0  \n",
       "2201343            0.0        13.0          21.0  \n",
       "2266841            4.0        14.0          16.0  \n",
       "642274             6.0        13.0          14.0  \n",
       "\n",
       "[5 rows x 21 columns]"
      ]
     },
     "execution_count": 49,
     "metadata": {},
     "output_type": "execute_result"
    }
   ],
   "source": [
    "df2.sample(5)"
   ]
  },
  {
   "cell_type": "code",
   "execution_count": 51,
   "metadata": {
    "slideshow": {
     "slide_type": "skip"
    }
   },
   "outputs": [
    {
     "data": {
      "text/plain": [
       "2017.0    100.000000\n",
       "2018.0      5.940696\n",
       "2019.0     66.892596\n",
       "2020.0    100.000000\n",
       "Name: start_year, dtype: float64"
      ]
     },
     "execution_count": 51,
     "metadata": {},
     "output_type": "execute_result"
    }
   ],
   "source": [
    "# check columns that have high % of missing data separetaly by years.\n",
    "# member_birth_year, member_gender, rental_access_method\n",
    "\n",
    "# 1.member_birth_year:\n",
    "100 * df2.query('member_birth_year == 0').start_year.value_counts()/df2.start_year.value_counts()\n"
   ]
  },
  {
   "cell_type": "markdown",
   "metadata": {
    "slideshow": {
     "slide_type": "skip"
    }
   },
   "source": [
    "- Output: for member age analyse we can take only 2018 year with 5.9% of missing value of member_birth_year data."
   ]
  },
  {
   "cell_type": "code",
   "execution_count": 52,
   "metadata": {
    "slideshow": {
     "slide_type": "skip"
    }
   },
   "outputs": [
    {
     "name": "stderr",
     "output_type": "stream",
     "text": [
      "/opt/anaconda3/lib/python3.7/site-packages/ipykernel_launcher.py:3: SettingWithCopyWarning: \n",
      "A value is trying to be set on a copy of a slice from a DataFrame.\n",
      "Try using .loc[row_indexer,col_indexer] = value instead\n",
      "\n",
      "See the caveats in the documentation: https://pandas.pydata.org/pandas-docs/stable/user_guide/indexing.html#returning-a-view-versus-a-copy\n",
      "  This is separate from the ipykernel package so we can avoid doing imports until\n"
     ]
    },
    {
     "data": {
      "text/plain": [
       "32     102836\n",
       "33      86554\n",
       "31      84830\n",
       "30      81999\n",
       "35      79126\n",
       "        ...  \n",
       "111         4\n",
       "131         3\n",
       "114         2\n",
       "117         1\n",
       "90          1\n",
       "Name: member_age, Length: 86, dtype: int64"
      ]
     },
     "execution_count": 52,
     "metadata": {},
     "output_type": "execute_result"
    }
   ],
   "source": [
    "# create dataframe for member age analyse:\n",
    "df_memb_age = df2.query('start_year == 2018 & member_birth_year != 0')\n",
    "df_memb_age['member_age']  = int(datetime.datetime.now().year) - df_memb_age['member_birth_year']\n",
    "df_memb_age.member_age.value_counts()"
   ]
  },
  {
   "cell_type": "code",
   "execution_count": 53,
   "metadata": {
    "slideshow": {
     "slide_type": "subslide"
    }
   },
   "outputs": [
    {
     "name": "stdout",
     "output_type": "stream",
     "text": [
      "Data actual for 2018 year:\n",
      "The average age of member that rent a bike is  36.91203780027758\n",
      "Oldest members  139  and  132 years old.\n",
      "Youngest members  20  and  21 years old.\n"
     ]
    }
   ],
   "source": [
    "print(\"Data actual for 2018 year:\")\n",
    "print(\"The average age of member that rent a bike is \", df_memb_age.member_age.mean())\n",
    "print(\"Oldest members \",df_memb_age.member_age.max(),\" and \",df_memb_age.query('member_age!= member_age.max()').member_age.max(), \"years old.\")\n",
    "print(\"Youngest members \",df_memb_age.member_age.min(),\" and \",df_memb_age.query('member_age!= member_age.min()').member_age.min(), \"years old.\")"
   ]
  },
  {
   "cell_type": "code",
   "execution_count": 54,
   "metadata": {
    "slideshow": {
     "slide_type": "skip"
    }
   },
   "outputs": [
    {
     "data": {
      "text/plain": [
       "21     13348\n",
       "20      5390\n",
       "132       23\n",
       "139        5\n",
       "Name: member_age, dtype: int64"
      ]
     },
     "execution_count": 54,
     "metadata": {},
     "output_type": "execute_result"
    }
   ],
   "source": [
    "df_memb_age.query('member_age in (139, 132, 20, 21)').member_age.value_counts()"
   ]
  },
  {
   "cell_type": "markdown",
   "metadata": {
    "slideshow": {
     "slide_type": "slide"
    }
   },
   "source": [
    "- Output: \n",
    "    youngest members at age 20 made 13 348 rides in 2018;\n",
    "    youngest members at age 21 made 5 390 rides in 2018;\n",
    "    oldest members at age 132 made 23 rides in 2018;\n",
    "    oldest members at age 139 made 5 rides in 2018."
   ]
  },
  {
   "cell_type": "code",
   "execution_count": 55,
   "metadata": {
    "slideshow": {
     "slide_type": "skip"
    }
   },
   "outputs": [
    {
     "data": {
      "text/plain": [
       "2017.0    100.000000\n",
       "2018.0      5.921863\n",
       "2019.0     66.892476\n",
       "2020.0    100.000000\n",
       "Name: start_year, dtype: float64"
      ]
     },
     "execution_count": 55,
     "metadata": {},
     "output_type": "execute_result"
    }
   ],
   "source": [
    "# 2.member_gender:\n",
    "100 * df2.query('member_gender == \"\"').start_year.value_counts()/df2.start_year.value_counts()"
   ]
  },
  {
   "cell_type": "markdown",
   "metadata": {
    "slideshow": {
     "slide_type": "skip"
    }
   },
   "source": [
    "- Output: results similar to previous where member age was explored. \n",
    "  For member gender analysis we can take only 2018 year with 5.9% of missing value of member gender data."
   ]
  },
  {
   "cell_type": "code",
   "execution_count": 56,
   "metadata": {
    "slideshow": {
     "slide_type": "skip"
    }
   },
   "outputs": [
    {
     "data": {
      "text/plain": [
       "Male      73.464058\n",
       "Female    24.991416\n",
       "Other      1.544526\n",
       "Name: member_gender, dtype: float64"
      ]
     },
     "execution_count": 56,
     "metadata": {},
     "output_type": "execute_result"
    }
   ],
   "source": [
    "# create dataframe for member gender analyse:\n",
    "df_memb_gender = df2.query('start_year == 2018 & member_gender != \"\"')\n",
    "\n",
    "# check popuar gender:\n",
    "100 * df_memb_gender.member_gender.value_counts()/df_memb_gender.shape[0]\n"
   ]
  },
  {
   "cell_type": "markdown",
   "metadata": {
    "slideshow": {
     "slide_type": "slide"
    }
   },
   "source": [
    "- Output: Male more often rented a bike in 2018."
   ]
  },
  {
   "cell_type": "code",
   "execution_count": 57,
   "metadata": {
    "slideshow": {
     "slide_type": "skip"
    }
   },
   "outputs": [
    {
     "data": {
      "text/plain": [
       "2017.0    100.000000\n",
       "2018.0    100.000000\n",
       "2019.0     95.179943\n",
       "2020.0     31.994496\n",
       "Name: start_year, dtype: float64"
      ]
     },
     "execution_count": 57,
     "metadata": {},
     "output_type": "execute_result"
    }
   ],
   "source": [
    "# 3.rental_access_method:\n",
    "100 * df2.query('rental_access_method == \"\"').start_year.value_counts()/df2.start_year.value_counts()"
   ]
  },
  {
   "cell_type": "markdown",
   "metadata": {
    "slideshow": {
     "slide_type": "skip"
    }
   },
   "source": [
    "- Output: for rental_access_method analyse we can't take any data - min % of missing data is 32%."
   ]
  },
  {
   "cell_type": "code",
   "execution_count": 58,
   "metadata": {},
   "outputs": [
    {
     "data": {
      "text/plain": [
       "2017.0    100.000000\n",
       "2018.0           NaN\n",
       "2019.0      9.703257\n",
       "2020.0    100.000000\n",
       "Name: start_year, dtype: float64"
      ]
     },
     "execution_count": 58,
     "metadata": {},
     "output_type": "execute_result"
    }
   ],
   "source": [
    "# 3.bike_share_for_all_trip:\n",
    "100 * df2.query('bike_share_for_all_trip == \"\"').start_year.value_counts()/df2.start_year.value_counts()"
   ]
  },
  {
   "cell_type": "markdown",
   "metadata": {
    "slideshow": {
     "slide_type": "skip"
    }
   },
   "source": [
    "- Output: for bike_share_for_all_trip analyse we can take only 2019 year with 9.7 % of missing value of bike_share_for_all_trip data."
   ]
  },
  {
   "cell_type": "code",
   "execution_count": 59,
   "metadata": {
    "slideshow": {
     "slide_type": "skip"
    }
   },
   "outputs": [
    {
     "data": {
      "text/plain": [
       "No     92.155758\n",
       "Yes     7.844242\n",
       "Name: bike_share_for_all_trip, dtype: float64"
      ]
     },
     "execution_count": 59,
     "metadata": {},
     "output_type": "execute_result"
    }
   ],
   "source": [
    "# create dataframe for bike_share_for_all_trip analyse:\n",
    "df_bike_share = df2.query('start_year == 2019 & bike_share_for_all_trip != \"\"')\n",
    "\n",
    "# check %:\n",
    "100 * df_bike_share.bike_share_for_all_trip.value_counts()/df_bike_share.shape[0]"
   ]
  },
  {
   "cell_type": "markdown",
   "metadata": {
    "slideshow": {
     "slide_type": "slide"
    }
   },
   "source": [
    "- Output: only 8% of people used options 'Bike Share For All Trip' in 2019."
   ]
  },
  {
   "cell_type": "code",
   "execution_count": 60,
   "metadata": {
    "slideshow": {
     "slide_type": "skip"
    }
   },
   "outputs": [
    {
     "name": "stdout",
     "output_type": "stream",
     "text": [
      "Number of rides by user types: \n",
      " Subscriber    4552602\n",
      "Customer      1235297\n",
      "Name: user_type, dtype: int64 \n",
      "\n",
      "Percentage of rides by user types: \n",
      " Subscriber    77.528602\n",
      "Customer      21.036508\n",
      "Name: user_type, dtype: float64\n"
     ]
    }
   ],
   "source": [
    "print('Number of rides by user types:',\"\\n\", df2.user_type.value_counts() ,\"\\n\")\n",
    "\n",
    "print('Percentage of rides by user types:',\"\\n\", 100 * df2.user_type.value_counts()/df2.shape[0])"
   ]
  },
  {
   "cell_type": "code",
   "execution_count": 61,
   "metadata": {
    "slideshow": {
     "slide_type": "skip"
    }
   },
   "outputs": [],
   "source": [
    "# Add a new column 'user_type_int' with 1 and 0 values (1 - user_type = Subscriber, 0 - user_type = Customer):\n",
    "df2['user_type_int'] = 1\n",
    "df2.loc[df2['user_type'] == \"Customer\", 'user_type_int'] = 0"
   ]
  },
  {
   "cell_type": "markdown",
   "metadata": {},
   "source": [
    "### 2. Exploratory data analysis. Visualisation."
   ]
  },
  {
   "cell_type": "code",
   "execution_count": 62,
   "metadata": {
    "slideshow": {
     "slide_type": "subslide"
    }
   },
   "outputs": [
    {
     "data": {
      "text/plain": [
       "Text(0.5, 0, 'Member age')"
      ]
     },
     "execution_count": 62,
     "metadata": {},
     "output_type": "execute_result"
    },
    {
     "data": {
      "image/png": "[encoded data removed]",
      "text/plain": [
       "<Figure size 1800x360 with 1 Axes>"
      ]
     },
     "metadata": {
      "needs_background": "light"
     },
     "output_type": "display_data"
    }
   ],
   "source": [
    "# Member age in 2018 :\n",
    "plt.figure(figsize=(25,5))\n",
    "base_color = sb.color_palette()[0]\n",
    "sb.countplot(data = df_memb_age, x = 'member_age', color = base_color)\n",
    "plt.title('Member age distribution by the number of bike rides in 2018 year', fontsize=18)\n",
    "plt.ylabel('Count of bike rides', fontsize=18)\n",
    "plt.xlabel('Member age', fontsize=18)"
   ]
  },
  {
   "cell_type": "markdown",
   "metadata": {
    "slideshow": {
     "slide_type": "slide"
    }
   },
   "source": [
    " - Output: number of bike rides were made by people at 27 - 35 years old."
   ]
  },
  {
   "cell_type": "code",
   "execution_count": 63,
   "metadata": {
    "slideshow": {
     "slide_type": "subslide"
    }
   },
   "outputs": [
    {
     "data": {
      "image/png": "[encoded data removed]",
      "text/plain": [
       "<Figure size 432x288 with 1 Axes>"
      ]
     },
     "metadata": {},
     "output_type": "display_data"
    }
   ],
   "source": [
    "# Member gender in 2018 :\n",
    "source_labels = df_memb_gender.member_gender.value_counts().index\n",
    "source_counts = df_memb_gender.member_gender.value_counts()\n",
    "colors = ['royalblue','pink',  'lightgreen']\n",
    "\n",
    "plt.pie(source_counts, labels = source_labels, autopct='%1.1f%%', shadow=True, colors=colors)\n",
    "\n",
    "plt.title('Gender distribution by the number of bike rides in 2018', fontsize=18)\n",
    "plt.axis('equal')\n",
    "plt.show();\n"
   ]
  },
  {
   "cell_type": "code",
   "execution_count": 64,
   "metadata": {
    "slideshow": {
     "slide_type": "subslide"
    }
   },
   "outputs": [
    {
     "data": {
      "image/png": "[encoded data removed]",
      "text/plain": [
       "<Figure size 432x288 with 1 Axes>"
      ]
     },
     "metadata": {},
     "output_type": "display_data"
    }
   ],
   "source": [
    "# bike_share_for_all_trip in 2019 :\n",
    "source_labels = df_bike_share.bike_share_for_all_trip.value_counts().index\n",
    "source_counts = df_bike_share.bike_share_for_all_trip.value_counts()\n",
    "colors = ['grey','gold']\n",
    "\n",
    "plt.pie(source_counts, labels = source_labels, autopct='%1.1f%%', shadow=True, colors=colors)\n",
    "\n",
    "plt.title('Bike share option distribution by the number of bike rides in 2019', fontsize=18)\n",
    "plt.axis('equal')\n",
    "plt.show();"
   ]
  },
  {
   "cell_type": "code",
   "execution_count": 65,
   "metadata": {
    "slideshow": {
     "slide_type": "subslide"
    }
   },
   "outputs": [
    {
     "data": {
      "image/png": "[encoded data removed]",
      "text/plain": [
       "<Figure size 432x288 with 1 Axes>"
      ]
     },
     "metadata": {},
     "output_type": "display_data"
    }
   ],
   "source": [
    "# user_type  :\n",
    "source_labels = df2.user_type.value_counts().index\n",
    "source_counts = df2.user_type.value_counts()\n",
    "colors = [\"#9b59b6\", \"#3498db\"]\n",
    "\n",
    "plt.pie(source_counts, labels = source_labels, autopct='%1.1f%%', shadow=True, colors=colors)\n",
    "\n",
    "plt.title('User type option distribution by the number of bike rides - from 2017 till 202003', fontsize=18)\n",
    "plt.axis('equal')\n",
    "plt.show();\n"
   ]
  },
  {
   "cell_type": "code",
   "execution_count": 66,
   "metadata": {
    "slideshow": {
     "slide_type": "subslide"
    }
   },
   "outputs": [
    {
     "data": {
      "text/plain": [
       "Text(0.5, 0, 'Years')"
      ]
     },
     "execution_count": 66,
     "metadata": {},
     "output_type": "execute_result"
    },
    {
     "data": {
      "image/png": "[encoded data removed]",
      "text/plain": [
       "<Figure size 1800x360 with 1 Axes>"
      ]
     },
     "metadata": {
      "needs_background": "light"
     },
     "output_type": "display_data"
    }
   ],
   "source": [
    "# User type by years :\n",
    "plt.figure(figsize=(25,5))\n",
    "base_color = sb.color_palette()[0]\n",
    "\n",
    "ct_counts = df2.groupby(['start_year','user_type']).size()\n",
    "ct_counts = ct_counts.reset_index(name='count')\n",
    "\n",
    "ct_counts.pivot(index='start_year',columns='user_type',values='count')\n",
    "\n",
    "sb.countplot(data = df2, x = 'start_year', hue='user_type', color = base_color)\n",
    "\n",
    "plt.title('Bike rides by user type in each year (in 2020 only 3 months)', fontsize=18)\n",
    "plt.ylabel('Count of bike rides', fontsize=18)\n",
    "plt.xlabel('Years', fontsize=18)"
   ]
  },
  {
   "cell_type": "code",
   "execution_count": null,
   "metadata": {
    "slideshow": {
     "slide_type": "slide"
    }
   },
   "outputs": [],
   "source": [
    "- Output: for  2020 - data were taken only for 3 months.\n",
    "    People prefer rent a bike through subscription."
   ]
  },
  {
   "cell_type": "code",
   "execution_count": 592,
   "metadata": {
    "slideshow": {
     "slide_type": "subslide"
    }
   },
   "outputs": [
    {
     "data": {
      "text/plain": [
       "Text(0.5, 0, 'Month')"
      ]
     },
     "execution_count": 592,
     "metadata": {},
     "output_type": "execute_result"
    },
    {
     "data": {
      "image/png": "[encoded data removed]",
      "text/plain": [
       "<Figure size 1800x360 with 1 Axes>"
      ]
     },
     "metadata": {
      "needs_background": "light"
     },
     "output_type": "display_data"
    }
   ],
   "source": [
    "# 2020 - detaily March, April - wrold lockdown :\n",
    "plt.figure(figsize=(25,5))\n",
    "base_color = sb.color_palette()[0]\n",
    "sb.countplot(data = df2.query(\"start_year == 2020\"), x = 'start_month', color = base_color)\n",
    "\n",
    "plt.title('Bike rides by month in 2020', fontsize=18)\n",
    "plt.ylabel('Count of bike rides', fontsize=18)\n",
    "plt.xlabel('Month', fontsize=18)"
   ]
  },
  {
   "cell_type": "code",
   "execution_count": 67,
   "metadata": {
    "slideshow": {
     "slide_type": "subslide"
    }
   },
   "outputs": [
    {
     "data": {
      "text/plain": [
       "Text(0.5, 0, 'Month')"
      ]
     },
     "execution_count": 67,
     "metadata": {},
     "output_type": "execute_result"
    },
    {
     "data": {
      "image/png": "[encoded data removed]",
      "text/plain": [
       "<Figure size 1800x360 with 1 Axes>"
      ]
     },
     "metadata": {
      "needs_background": "light"
     },
     "output_type": "display_data"
    }
   ],
   "source": [
    "# 2019,2018 - by month :\n",
    "plt.figure(figsize=(25,5))\n",
    "base_color = sb.color_palette()[0]\n",
    "sb.countplot(data = df2.query(\"start_year in (2018, 2019)\"), x = 'start_month', color = base_color)\n",
    "\n",
    "plt.title('Bike rides by month in 2018, 2019', fontsize=18)\n",
    "plt.ylabel('Count of bike rides', fontsize=18)\n",
    "plt.xlabel('Month', fontsize=18)"
   ]
  },
  {
   "cell_type": "markdown",
   "metadata": {
    "slideshow": {
     "slide_type": "slide"
    }
   },
   "source": [
    "- Output: The number of bike rents decreased rapidly  in March of 2020 more than in two times  compared with February data, it happened due to world lockdown (covid-19). On the other hand, we see that there is a tendency of increasing number of bike rents in March in previous two year.\n",
    "- There is also a tendency of decreasing number of bike rentals in winter months. The peak of bike rentals comes to June."
   ]
  },
  {
   "cell_type": "code",
   "execution_count": 68,
   "metadata": {
    "slideshow": {
     "slide_type": "subslide"
    }
   },
   "outputs": [
    {
     "data": {
      "text/plain": [
       "Text(0.5, 0, 'Weekdays')"
      ]
     },
     "execution_count": 68,
     "metadata": {},
     "output_type": "execute_result"
    },
    {
     "data": {
      "image/png": "[encoded data removed]",
      "text/plain": [
       "<Figure size 1800x360 with 1 Axes>"
      ]
     },
     "metadata": {
      "needs_background": "light"
     },
     "output_type": "display_data"
    }
   ],
   "source": [
    "# 2019,2018 - by weekdays :\n",
    "plt.figure(figsize=(25,5))\n",
    "base_color = sb.color_palette()[0]\n",
    "sb.countplot(data = df2.query(\"start_year in (2018, 2019)\"), x = 'start_weekday', color = base_color)\n",
    "\n",
    "plt.title('Bike rides by weekdays in 2018, 2019', fontsize=18)\n",
    "plt.ylabel('Count of bike rides', fontsize=18)\n",
    "plt.xlabel('Weekdays', fontsize=18)"
   ]
  },
  {
   "cell_type": "markdown",
   "metadata": {
    "slideshow": {
     "slide_type": "slide"
    }
   },
   "source": [
    "- Output: Number of bike rides is lower almost in two times on weekends."
   ]
  },
  {
   "cell_type": "code",
   "execution_count": 69,
   "metadata": {
    "slideshow": {
     "slide_type": "subslide"
    }
   },
   "outputs": [
    {
     "data": {
      "text/plain": [
       "Text(0.5, 0, 'Hours')"
      ]
     },
     "execution_count": 69,
     "metadata": {},
     "output_type": "execute_result"
    },
    {
     "data": {
      "image/png": "[encoded data removed]",
      "text/plain": [
       "<Figure size 1800x360 with 1 Axes>"
      ]
     },
     "metadata": {
      "needs_background": "light"
     },
     "output_type": "display_data"
    }
   ],
   "source": [
    "# 2019,2018 - by hours :\n",
    "plt.figure(figsize=(25,5))\n",
    "base_color = sb.color_palette()[0]\n",
    "sb.countplot(data = df2.query(\"start_year in (2018, 2019)\"), x = 'start_hour', color = base_color)\n",
    "\n",
    "plt.title('Bike rides by hours in 2018, 2019', fontsize=18)\n",
    "plt.ylabel('Count of bike rides', fontsize=18)\n",
    "plt.xlabel('Hours', fontsize=18)"
   ]
  },
  {
   "cell_type": "markdown",
   "metadata": {
    "slideshow": {
     "slide_type": "slide"
    }
   },
   "source": [
    "- Output: The peak of bike rentals comes between 7 a.m. and 9 a.m. and between 16 p.m. and 18 p.m. "
   ]
  },
  {
   "cell_type": "code",
   "execution_count": 71,
   "metadata": {
    "slideshow": {
     "slide_type": "skip"
    }
   },
   "outputs": [],
   "source": [
    "# function to determin city:\n",
    "geolocator = Nominatim(user_agent=\"geoapiExercises\")\n",
    "\n",
    "def city_state_country(coord):\n",
    "    location = geolocator.reverse(coord, exactly_one=True)\n",
    "    address = location.raw['address']\n",
    "    city = address.get('city', '')\n",
    "    #state = address.get('state', '')\n",
    "    #country = address.get('country', '')\n",
    "    return city #, state, country"
   ]
  },
  {
   "cell_type": "code",
   "execution_count": 76,
   "metadata": {
    "slideshow": {
     "slide_type": "skip"
    }
   },
   "outputs": [],
   "source": [
    "df2_2020 = df2.query('start_year == 2020 & start_station_latitude != 0.0 & start_station_longitude != 0.0')"
   ]
  },
  {
   "cell_type": "code",
   "execution_count": null,
   "metadata": {
    "slideshow": {
     "slide_type": "skip"
    }
   },
   "outputs": [],
   "source": [
    "# create a new column - city:\n",
    "\n",
    "df2_2020['city'] = \"\"\n",
    "\n",
    "for i in range(len(df2_2020) - 1):\n",
    "    coord = str(df2_2020['start_station_latitude'].iloc[i]) +\",\"+str(df2_2020['start_station_longitude'].iloc[i])\n",
    "    try:\n",
    "        df2_2020['city'].iloc[i] = city_state_country(coord)\n",
    "    except:\n",
    "        print(coord)"
   ]
  },
  {
   "cell_type": "code",
   "execution_count": 766,
   "metadata": {
    "slideshow": {
     "slide_type": "skip"
    }
   },
   "outputs": [
    {
     "data": {
      "text/html": [
       "<div>\n",
       "<style scoped>\n",
       "    .dataframe tbody tr th:only-of-type {\n",
       "        vertical-align: middle;\n",
       "    }\n",
       "\n",
       "    .dataframe tbody tr th {\n",
       "        vertical-align: top;\n",
       "    }\n",
       "\n",
       "    .dataframe thead th {\n",
       "        text-align: right;\n",
       "    }\n",
       "</style>\n",
       "<table border=\"1\" class=\"dataframe\">\n",
       "  <thead>\n",
       "    <tr style=\"text-align: right;\">\n",
       "      <th></th>\n",
       "      <th>end_time</th>\n",
       "      <th>start_station_id</th>\n",
       "      <th>start_station_name</th>\n",
       "      <th>start_station_latitude</th>\n",
       "      <th>start_station_longitude</th>\n",
       "      <th>end_station_id</th>\n",
       "      <th>end_station_name</th>\n",
       "      <th>end_station_latitude</th>\n",
       "      <th>end_station_longitude</th>\n",
       "      <th>bike_id</th>\n",
       "      <th>...</th>\n",
       "      <th>rental_access_method</th>\n",
       "      <th>start_year</th>\n",
       "      <th>start_month</th>\n",
       "      <th>start_day</th>\n",
       "      <th>start_weekday</th>\n",
       "      <th>start_hour</th>\n",
       "      <th>duration_min</th>\n",
       "      <th>user_type_int</th>\n",
       "      <th>city</th>\n",
       "      <th>state</th>\n",
       "    </tr>\n",
       "  </thead>\n",
       "  <tbody>\n",
       "    <tr>\n",
       "      <th>0</th>\n",
       "      <td>2018-01-01 15:12:50.245</td>\n",
       "      <td>74</td>\n",
       "      <td>Laguna St at Hayes St</td>\n",
       "      <td>37.776436</td>\n",
       "      <td>-122.426247</td>\n",
       "      <td>43</td>\n",
       "      <td>San Francisco Public Library (Grove St at Hyde...</td>\n",
       "      <td>37.778767</td>\n",
       "      <td>-122.415932</td>\n",
       "      <td>96</td>\n",
       "      <td>...</td>\n",
       "      <td></td>\n",
       "      <td>2017</td>\n",
       "      <td>12</td>\n",
       "      <td>31</td>\n",
       "      <td>6</td>\n",
       "      <td>16</td>\n",
       "      <td>1335</td>\n",
       "      <td>0</td>\n",
       "      <td>San Francisco</td>\n",
       "      <td></td>\n",
       "    </tr>\n",
       "    <tr>\n",
       "      <th>1</th>\n",
       "      <td>2018-01-01 13:49:55.617</td>\n",
       "      <td>284</td>\n",
       "      <td>Yerba Buena Center for the Arts (Howard St at ...</td>\n",
       "      <td>37.784874</td>\n",
       "      <td>-122.400879</td>\n",
       "      <td>96</td>\n",
       "      <td>Dolores St at 15th St</td>\n",
       "      <td>37.766209</td>\n",
       "      <td>-122.426613</td>\n",
       "      <td>88</td>\n",
       "      <td>...</td>\n",
       "      <td></td>\n",
       "      <td>2017</td>\n",
       "      <td>12</td>\n",
       "      <td>31</td>\n",
       "      <td>6</td>\n",
       "      <td>15</td>\n",
       "      <td>1313</td>\n",
       "      <td>0</td>\n",
       "      <td>San Francisco</td>\n",
       "      <td></td>\n",
       "    </tr>\n",
       "    <tr>\n",
       "      <th>2</th>\n",
       "      <td>2018-01-01 11:28:36.883</td>\n",
       "      <td>245</td>\n",
       "      <td>Downtown Berkeley BART</td>\n",
       "      <td>37.870346</td>\n",
       "      <td>-122.267761</td>\n",
       "      <td>245</td>\n",
       "      <td>Downtown Berkeley BART</td>\n",
       "      <td>37.870346</td>\n",
       "      <td>-122.267761</td>\n",
       "      <td>1094</td>\n",
       "      <td>...</td>\n",
       "      <td></td>\n",
       "      <td>2017</td>\n",
       "      <td>12</td>\n",
       "      <td>31</td>\n",
       "      <td>6</td>\n",
       "      <td>22</td>\n",
       "      <td>763</td>\n",
       "      <td>0</td>\n",
       "      <td>Berkeley</td>\n",
       "      <td></td>\n",
       "    </tr>\n",
       "    <tr>\n",
       "      <th>3</th>\n",
       "      <td>2018-01-01 10:47:23.531</td>\n",
       "      <td>60</td>\n",
       "      <td>8th St at Ringold St</td>\n",
       "      <td>37.774521</td>\n",
       "      <td>-122.409447</td>\n",
       "      <td>5</td>\n",
       "      <td>Powell St BART Station (Market St at 5th St)</td>\n",
       "      <td>37.783901</td>\n",
       "      <td>-122.408447</td>\n",
       "      <td>2831</td>\n",
       "      <td>...</td>\n",
       "      <td></td>\n",
       "      <td>2017</td>\n",
       "      <td>12</td>\n",
       "      <td>31</td>\n",
       "      <td>6</td>\n",
       "      <td>17</td>\n",
       "      <td>1036</td>\n",
       "      <td>0</td>\n",
       "      <td>San Francisco</td>\n",
       "      <td></td>\n",
       "    </tr>\n",
       "    <tr>\n",
       "      <th>4</th>\n",
       "      <td>2018-01-01 02:29:57.571</td>\n",
       "      <td>239</td>\n",
       "      <td>Bancroft Way at Telegraph Ave</td>\n",
       "      <td>37.868813</td>\n",
       "      <td>-122.258766</td>\n",
       "      <td>247</td>\n",
       "      <td>Fulton St at Bancroft Way</td>\n",
       "      <td>37.867790</td>\n",
       "      <td>-122.265900</td>\n",
       "      <td>3167</td>\n",
       "      <td>...</td>\n",
       "      <td></td>\n",
       "      <td>2017</td>\n",
       "      <td>12</td>\n",
       "      <td>31</td>\n",
       "      <td>6</td>\n",
       "      <td>14</td>\n",
       "      <td>727</td>\n",
       "      <td>1</td>\n",
       "      <td>Berkeley</td>\n",
       "      <td></td>\n",
       "    </tr>\n",
       "  </tbody>\n",
       "</table>\n",
       "<p>5 rows × 24 columns</p>\n",
       "</div>"
      ],
      "text/plain": [
       "                 end_time  start_station_id  \\\n",
       "0 2018-01-01 15:12:50.245                74   \n",
       "1 2018-01-01 13:49:55.617               284   \n",
       "2 2018-01-01 11:28:36.883               245   \n",
       "3 2018-01-01 10:47:23.531                60   \n",
       "4 2018-01-01 02:29:57.571               239   \n",
       "\n",
       "                                  start_station_name  start_station_latitude  \\\n",
       "0                              Laguna St at Hayes St               37.776436   \n",
       "1  Yerba Buena Center for the Arts (Howard St at ...               37.784874   \n",
       "2                             Downtown Berkeley BART               37.870346   \n",
       "3                               8th St at Ringold St               37.774521   \n",
       "4                      Bancroft Way at Telegraph Ave               37.868813   \n",
       "\n",
       "   start_station_longitude  end_station_id  \\\n",
       "0              -122.426247              43   \n",
       "1              -122.400879              96   \n",
       "2              -122.267761             245   \n",
       "3              -122.409447               5   \n",
       "4              -122.258766             247   \n",
       "\n",
       "                                    end_station_name  end_station_latitude  \\\n",
       "0  San Francisco Public Library (Grove St at Hyde...             37.778767   \n",
       "1                              Dolores St at 15th St             37.766209   \n",
       "2                             Downtown Berkeley BART             37.870346   \n",
       "3       Powell St BART Station (Market St at 5th St)             37.783901   \n",
       "4                          Fulton St at Bancroft Way             37.867790   \n",
       "\n",
       "   end_station_longitude bike_id  ... rental_access_method  start_year  \\\n",
       "0            -122.415932      96  ...                             2017   \n",
       "1            -122.426613      88  ...                             2017   \n",
       "2            -122.267761    1094  ...                             2017   \n",
       "3            -122.408447    2831  ...                             2017   \n",
       "4            -122.265900    3167  ...                             2017   \n",
       "\n",
       "  start_month start_day start_weekday  start_hour  duration_min  \\\n",
       "0          12        31             6          16          1335   \n",
       "1          12        31             6          15          1313   \n",
       "2          12        31             6          22           763   \n",
       "3          12        31             6          17          1036   \n",
       "4          12        31             6          14           727   \n",
       "\n",
       "   user_type_int           city  state  \n",
       "0              0  San Francisco         \n",
       "1              0  San Francisco         \n",
       "2              0       Berkeley         \n",
       "3              0  San Francisco         \n",
       "4              1       Berkeley         \n",
       "\n",
       "[5 rows x 24 columns]"
      ]
     },
     "execution_count": 766,
     "metadata": {},
     "output_type": "execute_result"
    }
   ],
   "source": [
    "#city_state_country(df2['coord'].iloc[1])[0]\n",
    "df2.head(5)"
   ]
  },
  {
   "cell_type": "code",
   "execution_count": 673,
   "metadata": {
    "slideshow": {
     "slide_type": "skip"
    }
   },
   "outputs": [
    {
     "data": {
      "text/plain": [
       "Text(0.5, 0, 'User type')"
      ]
     },
     "execution_count": 673,
     "metadata": {},
     "output_type": "execute_result"
    },
    {
     "data": {
      "image/png": "[encoded data removed]",
      "text/plain": [
       "<Figure size 432x288 with 1 Axes>"
      ]
     },
     "metadata": {
      "needs_background": "light"
     },
     "output_type": "display_data"
    }
   ],
   "source": [
    "# user_type vs member_age:\n",
    "sb.boxplot(data = df_memb_age, x = 'user_type', y = 'member_age', color = base_color)\n",
    "plt.title('User type vs age in 2018', fontsize=18)\n",
    "plt.ylabel('Age', fontsize=15)\n",
    "plt.xlabel('User type', fontsize=15)"
   ]
  },
  {
   "cell_type": "code",
   "execution_count": 674,
   "metadata": {
    "slideshow": {
     "slide_type": "skip"
    }
   },
   "outputs": [
    {
     "data": {
      "text/plain": [
       "Text(0.5, 0, 'User gender')"
      ]
     },
     "execution_count": 674,
     "metadata": {},
     "output_type": "execute_result"
    },
    {
     "data": {
      "image/png": "[encoded data removed]",
      "text/plain": [
       "<Figure size 432x288 with 1 Axes>"
      ]
     },
     "metadata": {
      "needs_background": "light"
     },
     "output_type": "display_data"
    }
   ],
   "source": [
    "# user_type vs member_gender:\n",
    "sb.boxplot(data = df_memb_age, x = 'member_gender', y = 'member_age', color = base_color)\n",
    "plt.title('User gender vs age in 2018', fontsize=18)\n",
    "plt.ylabel('Age', fontsize=18)\n",
    "plt.xlabel('User gender', fontsize=18)"
   ]
  },
  {
   "cell_type": "code",
   "execution_count": 697,
   "metadata": {
    "slideshow": {
     "slide_type": "skip"
    }
   },
   "outputs": [
    {
     "data": {
      "text/plain": [
       "Text(0.5, 1.0, 'Member age vs duration (min) in 2018')"
      ]
     },
     "execution_count": 697,
     "metadata": {},
     "output_type": "execute_result"
    },
    {
     "data": {
      "image/png": "[encoded data removed]",
      "text/plain": [
       "<Figure size 432x288 with 1 Axes>"
      ]
     },
     "metadata": {
      "needs_background": "light"
     },
     "output_type": "display_data"
    }
   ],
   "source": [
    "plt.scatter(data = df_memb_age, x = 'member_age', y = 'duration_min', color = base_color)\n",
    "plt.title('Member age vs duration (min) in 2018', fontsize=18)"
   ]
  },
  {
   "attachments": {},
   "cell_type": "markdown",
   "metadata": {
    "slideshow": {
     "slide_type": "slide"
    }
   },
   "source": [
    "### Conclusion\n",
    "\n",
    "Dataset  -  5 879 670 rows, 26 columns.\n",
    "\n",
    "1. Client characteristics:\n",
    "\n",
    "        The average age of member that rent a bike is 37 years old.\n",
    "        Oldest members  139  and  132 years old.\n",
    "        Youngest members  20  and  21 years old.\n",
    "\n",
    "        Youngest members at age 20 made 13 348 rides in 2018; \n",
    "        Youngest members at age 21 made 5 390 rides in 2018; \n",
    "        Oldest members at age 132 made 23 rides in 2018; \n",
    "        Oldest members at age 139 made 5 rides in 2018.\n",
    "\n",
    "        The most number of bike rides were made by people at 27 - 35 years old.\n",
    "\n",
    "        Male (73%) more often rented a bike in 2018.\n",
    "\n",
    "2. User preferences: \n",
    "\n",
    "        Only 8% of people used options 'Bike Share For All Trip'.\n",
    "        People prefer rent a bike through subscription.\n",
    "\n",
    "        Number of rides by user types: \n",
    "          Subscriber - 4 552 602 (78%)\n",
    "          Customer   - 1 235 297 (22%)     \n",
    "\n",
    "        There is also a tendency of decreasing number of bike rentals in winter months and increasing in spring time. The peak of bike rentals comes to June.\n",
    "        Number of bike rides is lower almost in two times on weekends.\n",
    "        The peak of bike rentals comes between 7 a.m. and 9 a.m. and between 16 p.m. and 18 p.m. \n",
    "\n",
    "3. The number of bike rents decreased rapidly in March of 2020 more than in two times compared with February data, it happened due to world lockdown (covid-19). \n",
    "\n",
    "\n",
    "Data limitation: \n",
    "    Data were taken for 2017, 2018, 2019, 2020 years. For 2017 and 2020 data are not full.\n",
    "    Data analysis on clients age and gender was made only for 2018 year.\n",
    "    Data analysis on bike share option was made only for 2019 year."
   ]
  }
 ],
 "metadata": {
  "celltoolbar": "Slideshow",
  "kernelspec": {
   "display_name": "Python 3",
   "language": "python",
   "name": "python3"
  },
  "language_info": {
   "codemirror_mode": {
    "name": "ipython",
    "version": 3
   },
   "file_extension": ".py",
   "mimetype": "text/x-python",
   "name": "python",
   "nbconvert_exporter": "python",
   "pygments_lexer": "ipython3",
   "version": "3.7.6"
  }
 },
 "nbformat": 4,
 "nbformat_minor": 4
}
